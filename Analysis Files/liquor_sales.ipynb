{
 "cells": [
  {
   "cell_type": "markdown",
   "id": "b6dcd435",
   "metadata": {},
   "source": [
    "# Liquor Sales in Iowa, US"
   ]
  },
  {
   "cell_type": "markdown",
   "id": "4a5f752e",
   "metadata": {},
   "source": [
    "## Project Overview:\n",
    "As a Business Intelligence Analyst, **hypothetically** contracted by the Iowa Alcoholic Beverages Division (ABD), I'm specializing in deriving business value from retail sales data.\n",
    "\n",
    "This dataset is publicly available, published by the State of Iowa to maintain transparency and support research on alcohol distribution and consumption trends. As part of a data-driven initiative, I was provided with a dataset detailing Liquor Sales in Iowa, US, spanning the years 2012-2020, to:\n",
    "\n",
    "- Help assess retail alcohol market dynamics,\n",
    "\n",
    "- Aid regulatory compliance audits,\n",
    "\n",
    "- Support policy decisions,\n",
    "\n",
    "- Or provide insight for expansion strategies in private liquor store chains."
   ]
  },
  {
   "cell_type": "markdown",
   "id": "e21fba0c",
   "metadata": {},
   "source": [
    "### Stakeholders\n",
    "The **potential** stakeholders here are multifaceted:\n",
    "\n",
    "- **State Government & ABD:** Want insights for policy, taxation, and public health tracking.\n",
    "\n",
    "- **Liquor Retail Chains:** Interested in optimizing inventory, pricing, and competitive positioning.\n",
    "\n",
    "- **Vendors & Distributors:** Want to understand regional product popularity.\n",
    "\n",
    "- **Data Journalists/Researchers:** Interested in socioeconomic patterns.\n",
    "\n",
    "- **Local Governments:** Curious about county-specific alcohol sales trends."
   ]
  },
  {
   "cell_type": "markdown",
   "id": "3a69e97b",
   "metadata": {},
   "source": [
    "## Tasks\n",
    "The tasks at hand are, for the timeframe 2016-2019:\n",
    "\n",
    "1) Discern the most popular item in each zipcode and\n",
    "2) Compute the sales percentage per store (in dollars)."
   ]
  },
  {
   "cell_type": "markdown",
   "id": "f8b705a3",
   "metadata": {},
   "source": [
    "### Objectives:\n",
    "1) Data Extraction and Cleaning: Extract pertinent data and conduct preliminary cleaning to handle missing or inconsistent data.\n",
    "2) Data Analysis: Employ Python with Pandas or SQL to analyze the dataset, identifying the predominant item per zipcode and calculating the proportion of sales for each store between 2016 and 2019.\n",
    "3) Data Visualization: Represent the analyzed data aesthetically and informatively using tools like matplotlib, seaborn, plotly, or integrate with visualization platforms such as Tableau Public, Power BI, Looker Studio, or HEX for a more interactive experience.\n",
    "    - You will only need 1 type of graph for the solution, but feel free to experiment with different graphs and formats"
   ]
  },
  {
   "cell_type": "markdown",
   "id": "7f9caf3f",
   "metadata": {},
   "source": [
    "### Workflow:\n",
    "1) Data Preparation: Extract, clean, and prepare the dataset for analysis.\n",
    "2) Exploratory Data Analysis (EDA): Explore the dataset to understand its structure, trends, and patterns.\n",
    "3) Data Manipulation: Use Python and Pandas for data transformation and computation to derive insights.\n",
    "4) Visualization and Presentation: Present the results in a visually appealing and informative manner using suitable visualization tools."
   ]
  },
  {
   "cell_type": "markdown",
   "id": "b4bf486c",
   "metadata": {},
   "source": [
    "### Value of Answering the Task Questions\n",
    "- Most popular item per zip code helps retailers with hyperlocal demand forecasting and inventory optimization.\n",
    "\n",
    "- Sales percentage per store reveals store performance—essential for incentive structuring, resource allocation, or even closure decisions.\n",
    "\n",
    "Both insights together allow for:\n",
    "\n",
    "- Smarter marketing strategies\n",
    "\n",
    "- Real-time price promotions\n",
    "\n",
    "- Strategic vendor negotiations\n",
    "\n",
    "- Better policy enforcement by identifying outliers in volume"
   ]
  },
  {
   "cell_type": "markdown",
   "id": "de7e4e41",
   "metadata": {},
   "source": [
    "## Import necessary modules"
   ]
  },
  {
   "cell_type": "code",
   "execution_count": 5,
   "id": "7c832cb1",
   "metadata": {},
   "outputs": [],
   "source": [
    "import pandas as pd\n",
    "import numpy as np\n",
    "import plotly.graph_objects as go\n",
    "import plotly.express as px\n",
    "import matplotlib.pyplot as plt\n",
    "import seaborn as sns"
   ]
  },
  {
   "cell_type": "markdown",
   "id": "26ba5f5e",
   "metadata": {},
   "source": [
    "## Dataset Columns & Context\n",
    "\n",
    "| Column Name            | Description |\n",
    "|------------------------|-------------|\n",
    "| `invoice_and_item_number` | Unique transaction identifier; ties invoices to specific items. |\n",
    "| `date`                 | Date of transaction (sale) in MM/DD/YYYY format. |\n",
    "| `store_number`         | Unique ID assigned to each store location. |\n",
    "| `store_name`           | Name of the store where the transaction occurred. |\n",
    "| `address`              | Physical address of the store. |\n",
    "| `city`                 | City where the store is located. |\n",
    "| `zip_code`             | Zip code for geographical segmentation. |\n",
    "| `store_location`       | Full geolocation metadata (may include latitude/longitude in one field). |\n",
    "| `county_number`        | Numerical code representing the county. |\n",
    "| `county`               | Name of the county where the store operates. |\n",
    "| `category`             | Numeric product category code. |\n",
    "| `category_name`        | Descriptive product category (e.g., Vodka, Whiskey). |\n",
    "| `vendor_number`        | Vendor's unique numeric ID. |\n",
    "| `vendor_name`          | Name of the vendor supplying the item. |\n",
    "| `item_number`          | Unique product ID within vendor catalog. |\n",
    "| `item_description`     | Description of the item sold (often includes brand and type). |\n",
    "| `pack`                 | Number of bottles in a pack. |\n",
    "| `bottle_volume_ml`     | Volume of each bottle in milliliters. |\n",
    "| `state_bottle_cost`    | Cost per bottle to the state (wholesale). |\n",
    "| `state_bottle_retail`  | Retail price set by the state (markup included). |\n",
    "| `bottles_sold`         | Quantity of bottles sold in a transaction. |\n",
    "| `sale_dollars`         | Total revenue in USD from the sale. |\n",
    "| `volume_sold_liters`   | Total volume sold in liters. |\n",
    "| `volume_sold_gallons`  | Total volume sold in gallons (alternate unit). |\n",
    "| `year`                 | Extracted year of transaction. |\n",
    "| `lon`                  | Longitude coordinate of store (used in spatial analysis). |\n",
    "| `lat`                  | Latitude coordinate of store. |\n"
   ]
  },
  {
   "cell_type": "markdown",
   "id": "4ce223ba",
   "metadata": {},
   "source": [
    "### Load the dataset"
   ]
  },
  {
   "cell_type": "code",
   "execution_count": 6,
   "id": "7fcb7780",
   "metadata": {},
   "outputs": [],
   "source": [
    "liquor_sales = pd.DataFrame(pd.read_csv('finance_liquor_sales.csv'))"
   ]
  },
  {
   "cell_type": "markdown",
   "id": "7517a5c3",
   "metadata": {},
   "source": [
    "## 1. Data Extraction & Data Cleaning"
   ]
  },
  {
   "cell_type": "markdown",
   "id": "940c1ae5",
   "metadata": {},
   "source": [
    "### 1.1 Handling Missing Values"
   ]
  },
  {
   "cell_type": "code",
   "execution_count": 7,
   "id": "1d0d8f6e",
   "metadata": {},
   "outputs": [
    {
     "data": {
      "application/vnd.microsoft.datawrangler.viewer.v0+json": {
       "columns": [
        {
         "name": "index",
         "rawType": "object",
         "type": "string"
        },
        {
         "name": "0",
         "rawType": "int64",
         "type": "integer"
        }
       ],
       "ref": "ab16e5db-fc79-4603-a3b4-4e479c9b8ac7",
       "rows": [
        [
         "invoice_and_item_number",
         "0"
        ],
        [
         "date",
         "0"
        ],
        [
         "store_number",
         "0"
        ],
        [
         "store_name",
         "0"
        ],
        [
         "address",
         "0"
        ],
        [
         "city",
         "0"
        ],
        [
         "zip_code",
         "0"
        ],
        [
         "store_location",
         "0"
        ],
        [
         "county_number",
         "0"
        ],
        [
         "county",
         "0"
        ],
        [
         "category",
         "0"
        ],
        [
         "category_name",
         "0"
        ],
        [
         "vendor_number",
         "0"
        ],
        [
         "vendor_name",
         "0"
        ],
        [
         "item_number",
         "0"
        ],
        [
         "item_description",
         "0"
        ],
        [
         "pack",
         "0"
        ],
        [
         "bottle_volume_ml",
         "0"
        ],
        [
         "state_bottle_cost",
         "0"
        ],
        [
         "state_bottle_retail",
         "0"
        ],
        [
         "bottles_sold",
         "0"
        ],
        [
         "sale_dollars",
         "0"
        ],
        [
         "volume_sold_liters",
         "0"
        ],
        [
         "volume_sold_gallons",
         "0"
        ],
        [
         "year",
         "0"
        ],
        [
         "lon",
         "0"
        ],
        [
         "lat",
         "0"
        ]
       ],
       "shape": {
        "columns": 1,
        "rows": 27
       }
      },
      "text/plain": [
       "invoice_and_item_number    0\n",
       "date                       0\n",
       "store_number               0\n",
       "store_name                 0\n",
       "address                    0\n",
       "city                       0\n",
       "zip_code                   0\n",
       "store_location             0\n",
       "county_number              0\n",
       "county                     0\n",
       "category                   0\n",
       "category_name              0\n",
       "vendor_number              0\n",
       "vendor_name                0\n",
       "item_number                0\n",
       "item_description           0\n",
       "pack                       0\n",
       "bottle_volume_ml           0\n",
       "state_bottle_cost          0\n",
       "state_bottle_retail        0\n",
       "bottles_sold               0\n",
       "sale_dollars               0\n",
       "volume_sold_liters         0\n",
       "volume_sold_gallons        0\n",
       "year                       0\n",
       "lon                        0\n",
       "lat                        0\n",
       "dtype: int64"
      ]
     },
     "execution_count": 7,
     "metadata": {},
     "output_type": "execute_result"
    }
   ],
   "source": [
    "liquor_sales.isna().sum()"
   ]
  },
  {
   "cell_type": "markdown",
   "id": "cde85595",
   "metadata": {},
   "source": [
    "Since we are seeing `NaN` values in the `store_location` column of the DataFrame, we can't assume by any means the correct values. That applies also to the rest of the columns with missing values: \n",
    "`['county_number', 'county', 'category', 'category_name']`. These are `type object` columns and we **can't impute** any orthological value to them. Based on the above, the best way to handle the missing values of this DataFrame is to **drop** them. "
   ]
  },
  {
   "cell_type": "code",
   "execution_count": 8,
   "id": "d7177cb8",
   "metadata": {},
   "outputs": [
    {
     "data": {
      "application/vnd.microsoft.datawrangler.viewer.v0+json": {
       "columns": [
        {
         "name": "index",
         "rawType": "object",
         "type": "string"
        },
        {
         "name": "0",
         "rawType": "int64",
         "type": "integer"
        }
       ],
       "ref": "1692b00e-855d-4ddf-82d4-95da03d34110",
       "rows": [
        [
         "invoice_and_item_number",
         "0"
        ],
        [
         "date",
         "0"
        ],
        [
         "store_number",
         "0"
        ],
        [
         "store_name",
         "0"
        ],
        [
         "address",
         "0"
        ],
        [
         "city",
         "0"
        ],
        [
         "zip_code",
         "0"
        ],
        [
         "store_location",
         "0"
        ],
        [
         "county_number",
         "0"
        ],
        [
         "county",
         "0"
        ],
        [
         "category",
         "0"
        ],
        [
         "category_name",
         "0"
        ],
        [
         "vendor_number",
         "0"
        ],
        [
         "vendor_name",
         "0"
        ],
        [
         "item_number",
         "0"
        ],
        [
         "item_description",
         "0"
        ],
        [
         "pack",
         "0"
        ],
        [
         "bottle_volume_ml",
         "0"
        ],
        [
         "state_bottle_cost",
         "0"
        ],
        [
         "state_bottle_retail",
         "0"
        ],
        [
         "bottles_sold",
         "0"
        ],
        [
         "sale_dollars",
         "0"
        ],
        [
         "volume_sold_liters",
         "0"
        ],
        [
         "volume_sold_gallons",
         "0"
        ],
        [
         "year",
         "0"
        ],
        [
         "lon",
         "0"
        ],
        [
         "lat",
         "0"
        ]
       ],
       "shape": {
        "columns": 1,
        "rows": 27
       }
      },
      "text/plain": [
       "invoice_and_item_number    0\n",
       "date                       0\n",
       "store_number               0\n",
       "store_name                 0\n",
       "address                    0\n",
       "city                       0\n",
       "zip_code                   0\n",
       "store_location             0\n",
       "county_number              0\n",
       "county                     0\n",
       "category                   0\n",
       "category_name              0\n",
       "vendor_number              0\n",
       "vendor_name                0\n",
       "item_number                0\n",
       "item_description           0\n",
       "pack                       0\n",
       "bottle_volume_ml           0\n",
       "state_bottle_cost          0\n",
       "state_bottle_retail        0\n",
       "bottles_sold               0\n",
       "sale_dollars               0\n",
       "volume_sold_liters         0\n",
       "volume_sold_gallons        0\n",
       "year                       0\n",
       "lon                        0\n",
       "lat                        0\n",
       "dtype: int64"
      ]
     },
     "execution_count": 8,
     "metadata": {},
     "output_type": "execute_result"
    }
   ],
   "source": [
    "liquor_sales = liquor_sales.dropna()\n",
    "liquor_sales.isna().sum()"
   ]
  },
  {
   "cell_type": "markdown",
   "id": "fdd3c261",
   "metadata": {},
   "source": [
    "### 1.2 Cleaning & Transforming to Correct Type"
   ]
  },
  {
   "cell_type": "code",
   "execution_count": 9,
   "id": "7a0d9aa4",
   "metadata": {},
   "outputs": [],
   "source": [
    "# Converting date column to DateTime\n",
    "liquor_sales['date'] = pd.to_datetime(liquor_sales['date'])"
   ]
  },
  {
   "cell_type": "code",
   "execution_count": 10,
   "id": "fe5a26cf",
   "metadata": {},
   "outputs": [],
   "source": [
    "# Converting zip_code column to type integer\n",
    "liquor_sales['zip_code'] = liquor_sales['zip_code'].astype(int)\n"
   ]
  },
  {
   "cell_type": "markdown",
   "id": "764a71bd",
   "metadata": {},
   "source": [
    "The final step, before going into EDA and Insights Analysis, is extracting the date range in which we will perform the analysis.\n",
    "The desired date range is between ***2016 & 2019***"
   ]
  },
  {
   "cell_type": "markdown",
   "id": "365db971",
   "metadata": {},
   "source": [
    "We will achieve that, by creating a `year` column and then **filter** the DataFrame with the correct conditions."
   ]
  },
  {
   "cell_type": "code",
   "execution_count": 11,
   "id": "19b5293a",
   "metadata": {},
   "outputs": [],
   "source": [
    "# Create the Year column\n",
    "liquor_sales['year'] = liquor_sales['date'].dt.year"
   ]
  },
  {
   "cell_type": "code",
   "execution_count": 12,
   "id": "7ac1faf7",
   "metadata": {},
   "outputs": [],
   "source": [
    "# Filter the DataFrame for dates between 2016 and 2019\n",
    "data = liquor_sales[(liquor_sales['year'] >= 2016) & (liquor_sales['year'] <= 2019)]\n",
    "# Filter and the liquor_sales to write the correct version for Tableau Viz\n",
    "liquor_sales = liquor_sales[(liquor_sales['year'] >= 2016) & (liquor_sales['year'] <= 2019)]"
   ]
  },
  {
   "cell_type": "markdown",
   "id": "29ef2438",
   "metadata": {},
   "source": [
    "(Optional) Extract longitute and latitude from `store_location` column:\n",
    "We need to:\n",
    "- ✅ Extract the longitude and latitude numbers from the string\n",
    "- ✅ Convert them into two separate columns\n",
    "- ✅ Use Plotly’s scattergeo to plot them\n",
    "\n",
    "##### 📝 Step 1: Extract coordinates from the string\n",
    "We can use regex or string manipulation to extract the values inside the parentheses, then split them into longitude and latitude.\n",
    "\n",
    "##### 📝 Step 2: Plot a scattergeo map with Plotly\n",
    "\n",
    "##### 📝 Step 3: Write the updated DataFrame to the .csv file\n",
    "---\n",
    "Extracting and storing geographical coordinates directly in the dataset ensures seamless integration with Tableau’s mapping features, enabling automatic geospatial visualization without additional data preparation or transformation."
   ]
  },
  {
   "cell_type": "code",
   "execution_count": 13,
   "id": "282bc521",
   "metadata": {},
   "outputs": [],
   "source": [
    "# Step 1\n",
    "liquor_sales[['lon', 'lat']] = liquor_sales['store_location'].str.extract(r'\\(([^)]+)\\)')[0].str.strip().str.split(' ', expand=True)\n",
    "liquor_sales['lon'] = liquor_sales['lon'].astype(float)\n",
    "liquor_sales['lat'] = liquor_sales['lat'].astype(float)\n",
    "# Optional print\n",
    "# print(liquor_sales[['lon', 'lat']])"
   ]
  },
  {
   "cell_type": "code",
   "execution_count": 14,
   "id": "5f0a9daf",
   "metadata": {},
   "outputs": [
    {
     "ename": "ValueError",
     "evalue": "Mime type rendering requires nbformat>=4.2.0 but it is not installed",
     "output_type": "error",
     "traceback": [
      "\u001b[31m---------------------------------------------------------------------------\u001b[39m",
      "\u001b[31mValueError\u001b[39m                                Traceback (most recent call last)",
      "\u001b[36mCell\u001b[39m\u001b[36m \u001b[39m\u001b[32mIn[14]\u001b[39m\u001b[32m, line 15\u001b[39m\n\u001b[32m      2\u001b[39m fig = go.Figure(go.Scattergeo(\n\u001b[32m      3\u001b[39m     lon = liquor_sales[\u001b[33m'\u001b[39m\u001b[33mlon\u001b[39m\u001b[33m'\u001b[39m],\n\u001b[32m      4\u001b[39m     lat = liquor_sales[\u001b[33m'\u001b[39m\u001b[33mlat\u001b[39m\u001b[33m'\u001b[39m],\n\u001b[32m   (...)\u001b[39m\u001b[32m      7\u001b[39m     text = liquor_sales.index,  \u001b[38;5;66;03m# optional: display row index or any label\u001b[39;00m\n\u001b[32m      8\u001b[39m ))\n\u001b[32m     10\u001b[39m fig.update_layout(\n\u001b[32m     11\u001b[39m     title = \u001b[33m'\u001b[39m\u001b[33mStore Locations\u001b[39m\u001b[33m'\u001b[39m,\n\u001b[32m     12\u001b[39m     geo_scope=\u001b[33m'\u001b[39m\u001b[33musa\u001b[39m\u001b[33m'\u001b[39m,  \u001b[38;5;66;03m# focuses map on USA\u001b[39;00m\n\u001b[32m     13\u001b[39m )\n\u001b[32m---> \u001b[39m\u001b[32m15\u001b[39m \u001b[43mfig\u001b[49m\u001b[43m.\u001b[49m\u001b[43mshow\u001b[49m\u001b[43m(\u001b[49m\u001b[43m)\u001b[49m\n",
      "\u001b[36mFile \u001b[39m\u001b[32mc:\\Users\\vagdi\\AppData\\Local\\Programs\\Python\\Python311\\Lib\\site-packages\\plotly\\basedatatypes.py:3414\u001b[39m, in \u001b[36mBaseFigure.show\u001b[39m\u001b[34m(self, *args, **kwargs)\u001b[39m\n\u001b[32m   3381\u001b[39m \u001b[38;5;250m\u001b[39m\u001b[33;03m\"\"\"\u001b[39;00m\n\u001b[32m   3382\u001b[39m \u001b[33;03mShow a figure using either the default renderer(s) or the renderer(s)\u001b[39;00m\n\u001b[32m   3383\u001b[39m \u001b[33;03mspecified by the renderer argument\u001b[39;00m\n\u001b[32m   (...)\u001b[39m\u001b[32m   3410\u001b[39m \u001b[33;03mNone\u001b[39;00m\n\u001b[32m   3411\u001b[39m \u001b[33;03m\"\"\"\u001b[39;00m\n\u001b[32m   3412\u001b[39m \u001b[38;5;28;01mimport\u001b[39;00m\u001b[38;5;250m \u001b[39m\u001b[34;01mplotly\u001b[39;00m\u001b[34;01m.\u001b[39;00m\u001b[34;01mio\u001b[39;00m\u001b[38;5;250m \u001b[39m\u001b[38;5;28;01mas\u001b[39;00m\u001b[38;5;250m \u001b[39m\u001b[34;01mpio\u001b[39;00m\n\u001b[32m-> \u001b[39m\u001b[32m3414\u001b[39m \u001b[38;5;28;01mreturn\u001b[39;00m \u001b[43mpio\u001b[49m\u001b[43m.\u001b[49m\u001b[43mshow\u001b[49m\u001b[43m(\u001b[49m\u001b[38;5;28;43mself\u001b[39;49m\u001b[43m,\u001b[49m\u001b[43m \u001b[49m\u001b[43m*\u001b[49m\u001b[43margs\u001b[49m\u001b[43m,\u001b[49m\u001b[43m \u001b[49m\u001b[43m*\u001b[49m\u001b[43m*\u001b[49m\u001b[43mkwargs\u001b[49m\u001b[43m)\u001b[49m\n",
      "\u001b[36mFile \u001b[39m\u001b[32mc:\\Users\\vagdi\\AppData\\Local\\Programs\\Python\\Python311\\Lib\\site-packages\\plotly\\io\\_renderers.py:425\u001b[39m, in \u001b[36mshow\u001b[39m\u001b[34m(fig, renderer, validate, **kwargs)\u001b[39m\n\u001b[32m    420\u001b[39m     \u001b[38;5;28;01mraise\u001b[39;00m \u001b[38;5;167;01mValueError\u001b[39;00m(\n\u001b[32m    421\u001b[39m         \u001b[33m\"\u001b[39m\u001b[33mMime type rendering requires ipython but it is not installed\u001b[39m\u001b[33m\"\u001b[39m\n\u001b[32m    422\u001b[39m     )\n\u001b[32m    424\u001b[39m \u001b[38;5;28;01mif\u001b[39;00m \u001b[38;5;129;01mnot\u001b[39;00m nbformat \u001b[38;5;129;01mor\u001b[39;00m Version(nbformat.__version__) < Version(\u001b[33m\"\u001b[39m\u001b[33m4.2.0\u001b[39m\u001b[33m\"\u001b[39m):\n\u001b[32m--> \u001b[39m\u001b[32m425\u001b[39m     \u001b[38;5;28;01mraise\u001b[39;00m \u001b[38;5;167;01mValueError\u001b[39;00m(\n\u001b[32m    426\u001b[39m         \u001b[33m\"\u001b[39m\u001b[33mMime type rendering requires nbformat>=4.2.0 but it is not installed\u001b[39m\u001b[33m\"\u001b[39m\n\u001b[32m    427\u001b[39m     )\n\u001b[32m    429\u001b[39m display_jupyter_version_warnings()\n\u001b[32m    431\u001b[39m ipython_display.display(bundle, raw=\u001b[38;5;28;01mTrue\u001b[39;00m)\n",
      "\u001b[31mValueError\u001b[39m: Mime type rendering requires nbformat>=4.2.0 but it is not installed"
     ]
    }
   ],
   "source": [
    "# Step 2\n",
    "fig = go.Figure(go.Scattergeo(\n",
    "    lon = liquor_sales['lon'],\n",
    "    lat = liquor_sales['lat'],\n",
    "    mode = 'markers',\n",
    "    marker=dict(size=8, color='blue'),\n",
    "    text = liquor_sales.index,  # optional: display row index or any label\n",
    "))\n",
    "\n",
    "fig.update_layout(\n",
    "    title = 'Store Locations',\n",
    "    geo_scope='usa',  # focuses map on USA\n",
    ")\n",
    "\n",
    "fig.show()"
   ]
  },
  {
   "cell_type": "code",
   "execution_count": null,
   "id": "fc2a1436",
   "metadata": {},
   "outputs": [],
   "source": [
    "# Step 3\n",
    "# Write the updated DataFrame back to the CSV\n",
    "liquor_sales.to_csv('finance_liquor_sales.csv', index=False)"
   ]
  },
  {
   "cell_type": "markdown",
   "id": "0a5ca8a1",
   "metadata": {},
   "source": [
    "## 2. Data Analysis"
   ]
  },
  {
   "cell_type": "markdown",
   "id": "d7e43852",
   "metadata": {},
   "source": [
    "### 2.1 Most Popular Item per zipcode"
   ]
  },
  {
   "cell_type": "markdown",
   "id": "af8d9255",
   "metadata": {},
   "source": [
    "**Objective:**\n",
    "To identify the most popular item per zip code between 2016 and 2019, we explore two distinct approaches: one driven by **volume** (total bottles sold) and the other by **revenue** (total sales in dollars). This dual approach ensures a comprehensive evaluation of item popularity from both **volume-driven** and **revenue-driven** perspectives.\n",
    "\n",
    "---\n",
    "\n",
    "##### **Approach 1: Volume-Driven Popularity (Total Bottles Sold)**\n",
    "\n",
    "1. **Group by Zip Code and Item Description**:\n",
    "   We first group the data by `zip_code` and `item_description`. For each zip code-item combination, we calculate the **total bottles sold**. This provides insights into the most frequently purchased items at the highest volume in each zip code.\n",
    "\n",
    "2. **Sort by Bottles Sold in Descending Order**:\n",
    "   After grouping the data, we sort the results by `bottles_sold` in **descending** order to ensure that the most popular items (by volume) appear at the top.\n",
    "\n",
    "3. **Extract Top Row per Zip Code**:\n",
    "   From the sorted data, we extract the **top row** per zip code, which gives us the **most sold item by volume** in each zip code.\n",
    "\n",
    "---\n",
    "\n",
    "##### **Approach 2: Revenue-Driven Popularity (Total Revenue)**\n",
    "\n",
    "1. **Group by Zip Code and Item Description**:\n",
    "   Similar to the volume-driven approach, we group the data by `zip_code` and `item_description`. However, this time we focus on calculating the **total revenue** generated by each item in each zip code, providing insights into which items contribute the most revenue.\n",
    "\n",
    "2. **Sort by Revenue in Descending Order**:\n",
    "   Once the revenue is calculated, we sort the data by **total revenue** in **descending** order to identify the items generating the highest sales.\n",
    "\n",
    "3. **Extract Top Row per Zip Code**:\n",
    "   We then extract the **top row** per zip code to determine the **most popular item by revenue** for each zip code.\n",
    "\n",
    "---\n",
    "\n",
    "##### **Why This Dual Approach?**\n",
    "\n",
    "By leveraging both the volume and revenue-driven methodologies, we gain a **holistic understanding** of item popularity:\n",
    "\n",
    "* **Volume-driven** analysis helps identify items that **sell the most** in terms of quantity, which is particularly useful for stock management and promotions aimed at increasing sales frequency.\n",
    "* **Revenue-driven** analysis highlights items that **generate the most revenue**, giving insights into high-margin or premium products that contribute most significantly to overall sales.\n",
    "\n",
    "This dual approach enables a more **comprehensive evaluation**, allowing businesses to tailor their strategies based on both **quantity sold** and **revenue generated**, ensuring well-rounded and informed decision-making.\n",
    "\n",
    "---\n",
    "\n",
    "##### **Conclusion:**\n",
    "\n",
    "The combination of volume-based and revenue-based insights provides a **balanced view** of item performance, enabling businesses to prioritize products not only by how much is sold but also by how much they contribute to the bottom line. This ensures a **data-driven**, **actionable strategy** for inventory management, pricing, and promotional efforts.\n"
   ]
  },
  {
   "cell_type": "markdown",
   "id": "8f60c954",
   "metadata": {},
   "source": [
    "#### 2.1.1 Volume Sales Approach"
   ]
  },
  {
   "cell_type": "code",
   "execution_count": null,
   "id": "f153e833",
   "metadata": {},
   "outputs": [
    {
     "name": "stdout",
     "output_type": "stream",
     "text": [
      "The most popular item by volume sales per zip_code is:\n",
      "   zip_code                               item_description  bottles_sold\n",
      "47    52314                                Juarez Gold Dss          1560\n",
      "21    50702                              Tortilla Gold Dss           768\n",
      "0     50010                       Member's Mark Spiced Rum           288\n",
      "8     50314                              Juarez Triple Sec           240\n",
      "28    51106                          Kahlua Coffee Liqueur           240\n",
      "49    52402                           Montezuma Triple Sec           216\n",
      "23    50703              Pinnacle Peach w/ Punch Dispenser           180\n",
      "10    50320                        Di Amore Quattro Orange           120\n",
      "17    50501                                    Titos Vodka           108\n",
      "13    50327                           Bacardi Gold Rum PET           102\n",
      "7     50266  Avion Silver w/Powell & Mahoney Margarita Mix            90\n",
      "48    52338   Cedar Ridge Single Malt Single Barrel Select            90\n",
      "5     50263                  Jagermeister w/2 Shot Glasses            84\n",
      "6     50265                                  Kahlua Coffee            72\n",
      "43    52240                              Juarez Triple Sec            60\n",
      "25    50707                                        Jameson            60\n",
      "53    52601                             Five O'clock Vodka            48\n",
      "2     50131                              Platinum 7x Vodka            48\n",
      "46    52241                           Maestro Agavero Gold            48\n",
      "36    51501                              Juarez Triple Sec            48\n",
      "14    50401            Ole Smoky Blackberry Moonshine Mini            48\n",
      "51    52411                              Everclear Alcohol            36\n",
      "54    52627                          Kapali Coffee Liqueur            36\n",
      "16    50461                             Five O'clock Vodka            30\n",
      "55    52732                             Paramount Gold Rum            24\n",
      "9     50317          Paul Masson Peach Grande Amber Brandy            24\n",
      "32    51401                          Basil Hayden Dark Rye            18\n",
      "19    50662       Ole Smoky Apple Pie Moonshine 70prf Mini             8\n",
      "4     50158                          Kamora Coffee Liqueur             6\n",
      "30    51247                            Dekuyper Triple Sec             6\n",
      "52    52556                              Juarez Triple Sec             6\n",
      "26    50801                               Bacardi Gold Rum             5\n",
      "40    52003                          Bacardi Gold Rum Mini             5\n",
      "56    52761                             Dekuyper Peachtree             4\n",
      "1     50022                           Paramount Triple Sec             4\n",
      "18    50588                    Phillips Root Beer Schnapps             4\n",
      "39    52001                          Kamora Coffee Liqueur             4\n",
      "41    52136                             Five O'clock Vodka             2\n",
      "38    51555                             Paramount Gold Rum             2\n",
      "57    52804                                   Martell VSSD             2\n",
      "42    52172                                  Kahlua Coffee             1\n"
     ]
    },
    {
     "name": "stderr",
     "output_type": "stream",
     "text": [
      "C:\\Users\\vagdi\\AppData\\Local\\Temp\\ipykernel_15872\\3822932909.py:12: SettingWithCopyWarning:\n",
      "\n",
      "\n",
      "A value is trying to be set on a copy of a slice from a DataFrame.\n",
      "Try using .loc[row_indexer,col_indexer] = value instead\n",
      "\n",
      "See the caveats in the documentation: https://pandas.pydata.org/pandas-docs/stable/user_guide/indexing.html#returning-a-view-versus-a-copy\n",
      "\n"
     ]
    }
   ],
   "source": [
    "# 1. Group by zip_code and item_description and \n",
    "# calculate total bottles sold\n",
    "grouped_data1 = data.groupby(['zip_code', 'item_description'])['bottles_sold'].sum().reset_index()\n",
    "\n",
    "# SOrt within each zip_code and bottles_sold descending\n",
    "grouped_data1 = grouped_data1.sort_values(['zip_code', 'bottles_sold'], ascending=[True, False])\n",
    "\n",
    "# Keep top row per zip_code\n",
    "most_volume_sold_item = grouped_data1.drop_duplicates(subset='zip_code', keep='first')\n",
    "\n",
    "# Convert zip_code to a categorical variable for better visualizations\n",
    "most_volume_sold_item['zip_code'] = most_volume_sold_item['zip_code'].astype('category')\n",
    "\n",
    "# Sort the results in descending order\n",
    "most_volume_sold_item = most_volume_sold_item.sort_values('bottles_sold', ascending=False)\n",
    "\n",
    "# Print the results\n",
    "print(f'The most popular item by volume sales per zip_code is:\\n{most_volume_sold_item}')"
   ]
  },
  {
   "cell_type": "markdown",
   "id": "078516df",
   "metadata": {},
   "source": [
    "##### Visualizing top 10 Using Seaborn"
   ]
  },
  {
   "cell_type": "code",
   "execution_count": null,
   "id": "885e619d",
   "metadata": {},
   "outputs": [
    {
     "data": {
      "image/png": "[encoded data removed]",
      "text/plain": [
       "<Figure size 2000x1400 with 1 Axes>"
      ]
     },
     "metadata": {},
     "output_type": "display_data"
    }
   ],
   "source": [
    "# Find the top 10 zip_codes\n",
    "top10_bottles_sold = most_volume_sold_item.sort_values('bottles_sold', ascending=False).head(10)\n",
    "\n",
    "plt.figure(figsize=(20, 14))\n",
    "\n",
    "# Plot\n",
    "sns.barplot(\n",
    "    data=top10_bottles_sold,\n",
    "    y='zip_code',\n",
    "    x='bottles_sold',\n",
    "    hue='item_description',\n",
    "    dodge=False  # keep 1 bar per zip_code\n",
    ")\n",
    "\n",
    "plt.title('Most Popular Item by Bottles Sold per Zip Code')\n",
    "plt.xlabel('Total Bottles Sold')\n",
    "plt.ylabel('Zip Code')\n",
    "\n",
    "plt.legend(title='Item Description', bbox_to_anchor=(1.05, 1), loc='upper left')\n",
    "plt.tight_layout()\n",
    "plt.show()"
   ]
  },
  {
   "cell_type": "markdown",
   "id": "8e8c92e0",
   "metadata": {},
   "source": [
    "##### Visualize Using Plotly"
   ]
  },
  {
   "cell_type": "code",
   "execution_count": null,
   "id": "22f295c0",
   "metadata": {},
   "outputs": [
    {
     "data": {
      "application/vnd.plotly.v1+json": {
       "config": {
        "plotlyServerURL": "https://plot.ly"
       },
       "data": [
        {
         "customdata": [
          [
           "Juarez Gold Dss"
          ],
          [
           "Tortilla Gold Dss"
          ],
          [
           "Member's Mark Spiced Rum"
          ],
          [
           "Juarez Triple Sec"
          ],
          [
           "Kahlua Coffee Liqueur"
          ],
          [
           "Montezuma Triple Sec"
          ],
          [
           "Pinnacle Peach w/ Punch Dispenser"
          ],
          [
           "Di Amore Quattro Orange"
          ],
          [
           "Titos Vodka"
          ],
          [
           "Bacardi Gold Rum PET"
          ]
         ],
         "domain": {
          "x": [
           0,
           1
          ],
          "y": [
           0,
           1
          ]
         },
         "hole": 0,
         "hovertemplate": "zip_code=%{label}<br>bottles_sold=%{value}<br>item_description=%{customdata[0]}<extra></extra>",
         "labels": [
          52314,
          50702,
          50010,
          50314,
          51106,
          52402,
          50703,
          50320,
          50501,
          50327
         ],
         "legendgroup": "",
         "name": "",
         "showlegend": true,
         "textinfo": "percent+label",
         "type": "pie",
         "values": [
          1560,
          768,
          288,
          240,
          240,
          216,
          180,
          120,
          108,
          102
         ]
        }
       ],
       "layout": {
        "legend": {
         "tracegroupgap": 0
        },
        "template": {
         "data": {
          "bar": [
           {
            "error_x": {
             "color": "#2a3f5f"
            },
            "error_y": {
             "color": "#2a3f5f"
            },
            "marker": {
             "line": {
              "color": "#E5ECF6",
              "width": 0.5
             },
             "pattern": {
              "fillmode": "overlay",
              "size": 10,
              "solidity": 0.2
             }
            },
            "type": "bar"
           }
          ],
          "barpolar": [
           {
            "marker": {
             "line": {
              "color": "#E5ECF6",
              "width": 0.5
             },
             "pattern": {
              "fillmode": "overlay",
              "size": 10,
              "solidity": 0.2
             }
            },
            "type": "barpolar"
           }
          ],
          "carpet": [
           {
            "aaxis": {
             "endlinecolor": "#2a3f5f",
             "gridcolor": "white",
             "linecolor": "white",
             "minorgridcolor": "white",
             "startlinecolor": "#2a3f5f"
            },
            "baxis": {
             "endlinecolor": "#2a3f5f",
             "gridcolor": "white",
             "linecolor": "white",
             "minorgridcolor": "white",
             "startlinecolor": "#2a3f5f"
            },
            "type": "carpet"
           }
          ],
          "choropleth": [
           {
            "colorbar": {
             "outlinewidth": 0,
             "ticks": ""
            },
            "type": "choropleth"
           }
          ],
          "contour": [
           {
            "colorbar": {
             "outlinewidth": 0,
             "ticks": ""
            },
            "colorscale": [
             [
              0,
              "#0d0887"
             ],
             [
              0.1111111111111111,
              "#46039f"
             ],
             [
              0.2222222222222222,
              "#7201a8"
             ],
             [
              0.3333333333333333,
              "#9c179e"
             ],
             [
              0.4444444444444444,
              "#bd3786"
             ],
             [
              0.5555555555555556,
              "#d8576b"
             ],
             [
              0.6666666666666666,
              "#ed7953"
             ],
             [
              0.7777777777777778,
              "#fb9f3a"
             ],
             [
              0.8888888888888888,
              "#fdca26"
             ],
             [
              1,
              "#f0f921"
             ]
            ],
            "type": "contour"
           }
          ],
          "contourcarpet": [
           {
            "colorbar": {
             "outlinewidth": 0,
             "ticks": ""
            },
            "type": "contourcarpet"
           }
          ],
          "heatmap": [
           {
            "colorbar": {
             "outlinewidth": 0,
             "ticks": ""
            },
            "colorscale": [
             [
              0,
              "#0d0887"
             ],
             [
              0.1111111111111111,
              "#46039f"
             ],
             [
              0.2222222222222222,
              "#7201a8"
             ],
             [
              0.3333333333333333,
              "#9c179e"
             ],
             [
              0.4444444444444444,
              "#bd3786"
             ],
             [
              0.5555555555555556,
              "#d8576b"
             ],
             [
              0.6666666666666666,
              "#ed7953"
             ],
             [
              0.7777777777777778,
              "#fb9f3a"
             ],
             [
              0.8888888888888888,
              "#fdca26"
             ],
             [
              1,
              "#f0f921"
             ]
            ],
            "type": "heatmap"
           }
          ],
          "heatmapgl": [
           {
            "colorbar": {
             "outlinewidth": 0,
             "ticks": ""
            },
            "colorscale": [
             [
              0,
              "#0d0887"
             ],
             [
              0.1111111111111111,
              "#46039f"
             ],
             [
              0.2222222222222222,
              "#7201a8"
             ],
             [
              0.3333333333333333,
              "#9c179e"
             ],
             [
              0.4444444444444444,
              "#bd3786"
             ],
             [
              0.5555555555555556,
              "#d8576b"
             ],
             [
              0.6666666666666666,
              "#ed7953"
             ],
             [
              0.7777777777777778,
              "#fb9f3a"
             ],
             [
              0.8888888888888888,
              "#fdca26"
             ],
             [
              1,
              "#f0f921"
             ]
            ],
            "type": "heatmapgl"
           }
          ],
          "histogram": [
           {
            "marker": {
             "pattern": {
              "fillmode": "overlay",
              "size": 10,
              "solidity": 0.2
             }
            },
            "type": "histogram"
           }
          ],
          "histogram2d": [
           {
            "colorbar": {
             "outlinewidth": 0,
             "ticks": ""
            },
            "colorscale": [
             [
              0,
              "#0d0887"
             ],
             [
              0.1111111111111111,
              "#46039f"
             ],
             [
              0.2222222222222222,
              "#7201a8"
             ],
             [
              0.3333333333333333,
              "#9c179e"
             ],
             [
              0.4444444444444444,
              "#bd3786"
             ],
             [
              0.5555555555555556,
              "#d8576b"
             ],
             [
              0.6666666666666666,
              "#ed7953"
             ],
             [
              0.7777777777777778,
              "#fb9f3a"
             ],
             [
              0.8888888888888888,
              "#fdca26"
             ],
             [
              1,
              "#f0f921"
             ]
            ],
            "type": "histogram2d"
           }
          ],
          "histogram2dcontour": [
           {
            "colorbar": {
             "outlinewidth": 0,
             "ticks": ""
            },
            "colorscale": [
             [
              0,
              "#0d0887"
             ],
             [
              0.1111111111111111,
              "#46039f"
             ],
             [
              0.2222222222222222,
              "#7201a8"
             ],
             [
              0.3333333333333333,
              "#9c179e"
             ],
             [
              0.4444444444444444,
              "#bd3786"
             ],
             [
              0.5555555555555556,
              "#d8576b"
             ],
             [
              0.6666666666666666,
              "#ed7953"
             ],
             [
              0.7777777777777778,
              "#fb9f3a"
             ],
             [
              0.8888888888888888,
              "#fdca26"
             ],
             [
              1,
              "#f0f921"
             ]
            ],
            "type": "histogram2dcontour"
           }
          ],
          "mesh3d": [
           {
            "colorbar": {
             "outlinewidth": 0,
             "ticks": ""
            },
            "type": "mesh3d"
           }
          ],
          "parcoords": [
           {
            "line": {
             "colorbar": {
              "outlinewidth": 0,
              "ticks": ""
             }
            },
            "type": "parcoords"
           }
          ],
          "pie": [
           {
            "automargin": true,
            "type": "pie"
           }
          ],
          "scatter": [
           {
            "fillpattern": {
             "fillmode": "overlay",
             "size": 10,
             "solidity": 0.2
            },
            "type": "scatter"
           }
          ],
          "scatter3d": [
           {
            "line": {
             "colorbar": {
              "outlinewidth": 0,
              "ticks": ""
             }
            },
            "marker": {
             "colorbar": {
              "outlinewidth": 0,
              "ticks": ""
             }
            },
            "type": "scatter3d"
           }
          ],
          "scattercarpet": [
           {
            "marker": {
             "colorbar": {
              "outlinewidth": 0,
              "ticks": ""
             }
            },
            "type": "scattercarpet"
           }
          ],
          "scattergeo": [
           {
            "marker": {
             "colorbar": {
              "outlinewidth": 0,
              "ticks": ""
             }
            },
            "type": "scattergeo"
           }
          ],
          "scattergl": [
           {
            "marker": {
             "colorbar": {
              "outlinewidth": 0,
              "ticks": ""
             }
            },
            "type": "scattergl"
           }
          ],
          "scattermapbox": [
           {
            "marker": {
             "colorbar": {
              "outlinewidth": 0,
              "ticks": ""
             }
            },
            "type": "scattermapbox"
           }
          ],
          "scatterpolar": [
           {
            "marker": {
             "colorbar": {
              "outlinewidth": 0,
              "ticks": ""
             }
            },
            "type": "scatterpolar"
           }
          ],
          "scatterpolargl": [
           {
            "marker": {
             "colorbar": {
              "outlinewidth": 0,
              "ticks": ""
             }
            },
            "type": "scatterpolargl"
           }
          ],
          "scatterternary": [
           {
            "marker": {
             "colorbar": {
              "outlinewidth": 0,
              "ticks": ""
             }
            },
            "type": "scatterternary"
           }
          ],
          "surface": [
           {
            "colorbar": {
             "outlinewidth": 0,
             "ticks": ""
            },
            "colorscale": [
             [
              0,
              "#0d0887"
             ],
             [
              0.1111111111111111,
              "#46039f"
             ],
             [
              0.2222222222222222,
              "#7201a8"
             ],
             [
              0.3333333333333333,
              "#9c179e"
             ],
             [
              0.4444444444444444,
              "#bd3786"
             ],
             [
              0.5555555555555556,
              "#d8576b"
             ],
             [
              0.6666666666666666,
              "#ed7953"
             ],
             [
              0.7777777777777778,
              "#fb9f3a"
             ],
             [
              0.8888888888888888,
              "#fdca26"
             ],
             [
              1,
              "#f0f921"
             ]
            ],
            "type": "surface"
           }
          ],
          "table": [
           {
            "cells": {
             "fill": {
              "color": "#EBF0F8"
             },
             "line": {
              "color": "white"
             }
            },
            "header": {
             "fill": {
              "color": "#C8D4E3"
             },
             "line": {
              "color": "white"
             }
            },
            "type": "table"
           }
          ]
         },
         "layout": {
          "annotationdefaults": {
           "arrowcolor": "#2a3f5f",
           "arrowhead": 0,
           "arrowwidth": 1
          },
          "autotypenumbers": "strict",
          "coloraxis": {
           "colorbar": {
            "outlinewidth": 0,
            "ticks": ""
           }
          },
          "colorscale": {
           "diverging": [
            [
             0,
             "#8e0152"
            ],
            [
             0.1,
             "#c51b7d"
            ],
            [
             0.2,
             "#de77ae"
            ],
            [
             0.3,
             "#f1b6da"
            ],
            [
             0.4,
             "#fde0ef"
            ],
            [
             0.5,
             "#f7f7f7"
            ],
            [
             0.6,
             "#e6f5d0"
            ],
            [
             0.7,
             "#b8e186"
            ],
            [
             0.8,
             "#7fbc41"
            ],
            [
             0.9,
             "#4d9221"
            ],
            [
             1,
             "#276419"
            ]
           ],
           "sequential": [
            [
             0,
             "#0d0887"
            ],
            [
             0.1111111111111111,
             "#46039f"
            ],
            [
             0.2222222222222222,
             "#7201a8"
            ],
            [
             0.3333333333333333,
             "#9c179e"
            ],
            [
             0.4444444444444444,
             "#bd3786"
            ],
            [
             0.5555555555555556,
             "#d8576b"
            ],
            [
             0.6666666666666666,
             "#ed7953"
            ],
            [
             0.7777777777777778,
             "#fb9f3a"
            ],
            [
             0.8888888888888888,
             "#fdca26"
            ],
            [
             1,
             "#f0f921"
            ]
           ],
           "sequentialminus": [
            [
             0,
             "#0d0887"
            ],
            [
             0.1111111111111111,
             "#46039f"
            ],
            [
             0.2222222222222222,
             "#7201a8"
            ],
            [
             0.3333333333333333,
             "#9c179e"
            ],
            [
             0.4444444444444444,
             "#bd3786"
            ],
            [
             0.5555555555555556,
             "#d8576b"
            ],
            [
             0.6666666666666666,
             "#ed7953"
            ],
            [
             0.7777777777777778,
             "#fb9f3a"
            ],
            [
             0.8888888888888888,
             "#fdca26"
            ],
            [
             1,
             "#f0f921"
            ]
           ]
          },
          "colorway": [
           "#636efa",
           "#EF553B",
           "#00cc96",
           "#ab63fa",
           "#FFA15A",
           "#19d3f3",
           "#FF6692",
           "#B6E880",
           "#FF97FF",
           "#FECB52"
          ],
          "font": {
           "color": "#2a3f5f"
          },
          "geo": {
           "bgcolor": "white",
           "lakecolor": "white",
           "landcolor": "#E5ECF6",
           "showlakes": true,
           "showland": true,
           "subunitcolor": "white"
          },
          "hoverlabel": {
           "align": "left"
          },
          "hovermode": "closest",
          "mapbox": {
           "style": "light"
          },
          "paper_bgcolor": "white",
          "plot_bgcolor": "#E5ECF6",
          "polar": {
           "angularaxis": {
            "gridcolor": "white",
            "linecolor": "white",
            "ticks": ""
           },
           "bgcolor": "#E5ECF6",
           "radialaxis": {
            "gridcolor": "white",
            "linecolor": "white",
            "ticks": ""
           }
          },
          "scene": {
           "xaxis": {
            "backgroundcolor": "#E5ECF6",
            "gridcolor": "white",
            "gridwidth": 2,
            "linecolor": "white",
            "showbackground": true,
            "ticks": "",
            "zerolinecolor": "white"
           },
           "yaxis": {
            "backgroundcolor": "#E5ECF6",
            "gridcolor": "white",
            "gridwidth": 2,
            "linecolor": "white",
            "showbackground": true,
            "ticks": "",
            "zerolinecolor": "white"
           },
           "zaxis": {
            "backgroundcolor": "#E5ECF6",
            "gridcolor": "white",
            "gridwidth": 2,
            "linecolor": "white",
            "showbackground": true,
            "ticks": "",
            "zerolinecolor": "white"
           }
          },
          "shapedefaults": {
           "line": {
            "color": "#2a3f5f"
           }
          },
          "ternary": {
           "aaxis": {
            "gridcolor": "white",
            "linecolor": "white",
            "ticks": ""
           },
           "baxis": {
            "gridcolor": "white",
            "linecolor": "white",
            "ticks": ""
           },
           "bgcolor": "#E5ECF6",
           "caxis": {
            "gridcolor": "white",
            "linecolor": "white",
            "ticks": ""
           }
          },
          "title": {
           "x": 0.05
          },
          "xaxis": {
           "automargin": true,
           "gridcolor": "white",
           "linecolor": "white",
           "ticks": "",
           "title": {
            "standoff": 15
           },
           "zerolinecolor": "white",
           "zerolinewidth": 2
          },
          "yaxis": {
           "automargin": true,
           "gridcolor": "white",
           "linecolor": "white",
           "ticks": "",
           "title": {
            "standoff": 15
           },
           "zerolinecolor": "white",
           "zerolinewidth": 2
          }
         }
        },
        "title": {
         "text": "Top 10 Zip Codes by Total Bottles Sold"
        }
       }
      }
     },
     "metadata": {},
     "output_type": "display_data"
    }
   ],
   "source": [
    "# Get top 10 zip codes by bottles sold\n",
    "top_10_volume = most_volume_sold_item.sort_values('bottles_sold', ascending=False).head(10)\n",
    "\n",
    "fig = px.pie(\n",
    "    top_10_volume,\n",
    "    names='zip_code',\n",
    "    values='bottles_sold',\n",
    "    title='Top 10 Zip Codes by Total Bottles Sold',\n",
    "    hover_data=['item_description'],\n",
    "    hole=0  # Set >0 for donut chart\n",
    ")\n",
    "\n",
    "fig.update_traces(textinfo='percent+label')\n",
    "\n",
    "fig.show()"
   ]
  },
  {
   "cell_type": "markdown",
   "id": "59aa9a6f",
   "metadata": {},
   "source": [
    "#### 2.1.2 Revenue Approach"
   ]
  },
  {
   "cell_type": "code",
   "execution_count": null,
   "id": "efc3351e",
   "metadata": {},
   "outputs": [
    {
     "name": "stdout",
     "output_type": "stream",
     "text": [
      "The most popular item by revenue per zip code is:\n",
      "   zip_code                               item_description  sale_dollars\n",
      "0     50010                       Member's Mark Spiced Rum       3913.92\n",
      "1     50022                           Paramount Triple Sec         23.04\n",
      "2     50131                              Platinum 7x Vodka         64.32\n",
      "3     50158                                  Kahlua Coffee        112.47\n",
      "5     50263                  Jagermeister w/2 Shot Glasses       1518.72\n",
      "6     50265                                  Kahlua Coffee       1349.28\n",
      "7     50266  Avion Silver w/Powell & Mahoney Margarita Mix       3372.30\n",
      "8     50314                              Juarez Triple Sec        871.20\n",
      "9     50317          Paul Masson Peach Grande Amber Brandy         70.56\n",
      "11    50320               Glen Oaks Whiskey Buy the Barrel       1881.00\n",
      "13    50327                           Bacardi Gold Rum PET       2295.00\n",
      "14    50401            Ole Smoky Blackberry Moonshine Mini        630.24\n",
      "16    50461                             Five O'clock Vodka        324.00\n",
      "17    50501                                    Titos Vodka       1563.84\n",
      "18    50588                    Phillips Root Beer Schnapps         33.00\n",
      "19    50662       Ole Smoky Apple Pie Moonshine 70prf Mini        105.04\n",
      "21    50702                              Tortilla Gold Dss       5199.36\n",
      "23    50703              Pinnacle Peach w/ Punch Dispenser       1985.40\n",
      "25    50707                                        Jameson       1349.40\n",
      "26    50801                               Bacardi Gold Rum         71.25\n",
      "28    51106                          Kahlua Coffee Liqueur       5397.60\n",
      "30    51247                            Dekuyper Triple Sec         21.00\n",
      "32    51401                          Basil Hayden Dark Rye        637.74\n",
      "36    51501                              Juarez Triple Sec        174.24\n",
      "38    51555                             Paramount Gold Rum         13.26\n",
      "39    52001                          Kamora Coffee Liqueur         50.36\n",
      "40    52003                          Bacardi Gold Rum Mini         41.55\n",
      "41    52136                             Five O'clock Vodka         75.12\n",
      "42    52172                                  Kahlua Coffee          9.74\n",
      "44    52240                                  Templeton Rye        488.52\n",
      "46    52241                           Maestro Agavero Gold        504.00\n",
      "47    52314                                Juarez Gold Dss      11620.80\n",
      "48    52338   Cedar Ridge Single Malt Single Barrel Select       3712.50\n",
      "49    52402                           Montezuma Triple Sec        691.20\n",
      "51    52411                              Everclear Alcohol        486.00\n",
      "52    52556                              Juarez Triple Sec         21.78\n",
      "53    52601                             Five O'clock Vodka         81.60\n",
      "54    52627                          Kapali Coffee Liqueur        237.24\n",
      "55    52732                             Paramount Gold Rum        282.24\n",
      "56    52761                             Dekuyper Peachtree         45.72\n",
      "57    52804                                   Martell VSSD         17.98\n"
     ]
    },
    {
     "name": "stderr",
     "output_type": "stream",
     "text": [
      "C:\\Users\\vagdi\\AppData\\Local\\Temp\\ipykernel_15872\\2609642490.py:12: SettingWithCopyWarning:\n",
      "\n",
      "\n",
      "A value is trying to be set on a copy of a slice from a DataFrame.\n",
      "Try using .loc[row_indexer,col_indexer] = value instead\n",
      "\n",
      "See the caveats in the documentation: https://pandas.pydata.org/pandas-docs/stable/user_guide/indexing.html#returning-a-view-versus-a-copy\n",
      "\n"
     ]
    }
   ],
   "source": [
    "# 2. Group by zip_code and item_description and \n",
    "# calculate total sale_dollars\n",
    "grouped_data2 = data.groupby(['zip_code', 'item_description'])['sale_dollars'].sum().reset_index()\n",
    "\n",
    "# Sort within each zip_code by sale_dollars descending\n",
    "grouped_data2 = grouped_data2.sort_values(['zip_code', 'sale_dollars'], ascending=[True, False])\n",
    "\n",
    "# Keep top row per zip_code\n",
    "most_revenue_item = grouped_data2.drop_duplicates(subset='zip_code', keep='first')\n",
    "\n",
    "# Sort the results in descending order\n",
    "most_revenue_item['zip_code'] = most_revenue_item['zip_code'].astype('category')\n",
    "\n",
    "print(f'The most popular item by revenue per zip code is:\\n{most_revenue_item}')"
   ]
  },
  {
   "cell_type": "markdown",
   "id": "6abba886",
   "metadata": {},
   "source": [
    "##### Visualize Using Seaborn"
   ]
  },
  {
   "cell_type": "code",
   "execution_count": null,
   "id": "238dc081",
   "metadata": {},
   "outputs": [
    {
     "data": {
      "image/png": "[encoded data removed]",
      "text/plain": [
       "<Figure size 2000x1400 with 1 Axes>"
      ]
     },
     "metadata": {},
     "output_type": "display_data"
    }
   ],
   "source": [
    "plt.figure(figsize=(20, 14))\n",
    "\n",
    "sns.barplot(\n",
    "    data=most_revenue_item,\n",
    "    y='zip_code',\n",
    "    x='sale_dollars',\n",
    "    hue='item_description',\n",
    "    dodge=False  # 1 bar per zip_code\n",
    ")\n",
    "\n",
    "plt.title('Most Popular Item by Revenue per Zip Code')\n",
    "plt.xlabel('Total Sales Revenue ($)')  # Adjust x-axis label\n",
    "plt.ylabel('Zip Code')  # Adjust y-axis label\n",
    "plt.legend(title='Item Description', bbox_to_anchor=(1.05, 1), loc='upper left')\n",
    "plt.grid(True, axis='x')\n",
    "plt.show()"
   ]
  },
  {
   "cell_type": "markdown",
   "id": "2e33316b",
   "metadata": {},
   "source": [
    "##### Visualize Using Plotly\n"
   ]
  },
  {
   "cell_type": "code",
   "execution_count": null,
   "id": "fc75c507",
   "metadata": {},
   "outputs": [
    {
     "data": {
      "application/vnd.plotly.v1+json": {
       "config": {
        "plotlyServerURL": "https://plot.ly"
       },
       "data": [
        {
         "customdata": [
          [
           "Juarez Gold Dss"
          ],
          [
           "Kahlua Coffee Liqueur"
          ],
          [
           "Tortilla Gold Dss"
          ],
          [
           "Member's Mark Spiced Rum"
          ],
          [
           "Cedar Ridge Single Malt Single Barrel Select"
          ],
          [
           "Avion Silver w/Powell & Mahoney Margarita Mix"
          ],
          [
           "Bacardi Gold Rum PET"
          ],
          [
           "Pinnacle Peach w/ Punch Dispenser"
          ],
          [
           "Glen Oaks Whiskey Buy the Barrel"
          ],
          [
           "Titos Vodka"
          ]
         ],
         "domain": {
          "x": [
           0,
           1
          ],
          "y": [
           0,
           1
          ]
         },
         "hole": 0,
         "hovertemplate": "zip_code=%{label}<br>sale_dollars=%{value}<br>item_description=%{customdata[0]}<extra></extra>",
         "labels": [
          52314,
          51106,
          50702,
          50010,
          52338,
          50266,
          50327,
          50703,
          50320,
          50501
         ],
         "legendgroup": "",
         "name": "",
         "showlegend": true,
         "textinfo": "percent+label",
         "type": "pie",
         "values": [
          11620.8,
          5397.6,
          5199.36,
          3913.92,
          3712.5,
          3372.3,
          2295,
          1985.4,
          1881,
          1563.84
         ]
        }
       ],
       "layout": {
        "legend": {
         "tracegroupgap": 0
        },
        "template": {
         "data": {
          "bar": [
           {
            "error_x": {
             "color": "#2a3f5f"
            },
            "error_y": {
             "color": "#2a3f5f"
            },
            "marker": {
             "line": {
              "color": "#E5ECF6",
              "width": 0.5
             },
             "pattern": {
              "fillmode": "overlay",
              "size": 10,
              "solidity": 0.2
             }
            },
            "type": "bar"
           }
          ],
          "barpolar": [
           {
            "marker": {
             "line": {
              "color": "#E5ECF6",
              "width": 0.5
             },
             "pattern": {
              "fillmode": "overlay",
              "size": 10,
              "solidity": 0.2
             }
            },
            "type": "barpolar"
           }
          ],
          "carpet": [
           {
            "aaxis": {
             "endlinecolor": "#2a3f5f",
             "gridcolor": "white",
             "linecolor": "white",
             "minorgridcolor": "white",
             "startlinecolor": "#2a3f5f"
            },
            "baxis": {
             "endlinecolor": "#2a3f5f",
             "gridcolor": "white",
             "linecolor": "white",
             "minorgridcolor": "white",
             "startlinecolor": "#2a3f5f"
            },
            "type": "carpet"
           }
          ],
          "choropleth": [
           {
            "colorbar": {
             "outlinewidth": 0,
             "ticks": ""
            },
            "type": "choropleth"
           }
          ],
          "contour": [
           {
            "colorbar": {
             "outlinewidth": 0,
             "ticks": ""
            },
            "colorscale": [
             [
              0,
              "#0d0887"
             ],
             [
              0.1111111111111111,
              "#46039f"
             ],
             [
              0.2222222222222222,
              "#7201a8"
             ],
             [
              0.3333333333333333,
              "#9c179e"
             ],
             [
              0.4444444444444444,
              "#bd3786"
             ],
             [
              0.5555555555555556,
              "#d8576b"
             ],
             [
              0.6666666666666666,
              "#ed7953"
             ],
             [
              0.7777777777777778,
              "#fb9f3a"
             ],
             [
              0.8888888888888888,
              "#fdca26"
             ],
             [
              1,
              "#f0f921"
             ]
            ],
            "type": "contour"
           }
          ],
          "contourcarpet": [
           {
            "colorbar": {
             "outlinewidth": 0,
             "ticks": ""
            },
            "type": "contourcarpet"
           }
          ],
          "heatmap": [
           {
            "colorbar": {
             "outlinewidth": 0,
             "ticks": ""
            },
            "colorscale": [
             [
              0,
              "#0d0887"
             ],
             [
              0.1111111111111111,
              "#46039f"
             ],
             [
              0.2222222222222222,
              "#7201a8"
             ],
             [
              0.3333333333333333,
              "#9c179e"
             ],
             [
              0.4444444444444444,
              "#bd3786"
             ],
             [
              0.5555555555555556,
              "#d8576b"
             ],
             [
              0.6666666666666666,
              "#ed7953"
             ],
             [
              0.7777777777777778,
              "#fb9f3a"
             ],
             [
              0.8888888888888888,
              "#fdca26"
             ],
             [
              1,
              "#f0f921"
             ]
            ],
            "type": "heatmap"
           }
          ],
          "heatmapgl": [
           {
            "colorbar": {
             "outlinewidth": 0,
             "ticks": ""
            },
            "colorscale": [
             [
              0,
              "#0d0887"
             ],
             [
              0.1111111111111111,
              "#46039f"
             ],
             [
              0.2222222222222222,
              "#7201a8"
             ],
             [
              0.3333333333333333,
              "#9c179e"
             ],
             [
              0.4444444444444444,
              "#bd3786"
             ],
             [
              0.5555555555555556,
              "#d8576b"
             ],
             [
              0.6666666666666666,
              "#ed7953"
             ],
             [
              0.7777777777777778,
              "#fb9f3a"
             ],
             [
              0.8888888888888888,
              "#fdca26"
             ],
             [
              1,
              "#f0f921"
             ]
            ],
            "type": "heatmapgl"
           }
          ],
          "histogram": [
           {
            "marker": {
             "pattern": {
              "fillmode": "overlay",
              "size": 10,
              "solidity": 0.2
             }
            },
            "type": "histogram"
           }
          ],
          "histogram2d": [
           {
            "colorbar": {
             "outlinewidth": 0,
             "ticks": ""
            },
            "colorscale": [
             [
              0,
              "#0d0887"
             ],
             [
              0.1111111111111111,
              "#46039f"
             ],
             [
              0.2222222222222222,
              "#7201a8"
             ],
             [
              0.3333333333333333,
              "#9c179e"
             ],
             [
              0.4444444444444444,
              "#bd3786"
             ],
             [
              0.5555555555555556,
              "#d8576b"
             ],
             [
              0.6666666666666666,
              "#ed7953"
             ],
             [
              0.7777777777777778,
              "#fb9f3a"
             ],
             [
              0.8888888888888888,
              "#fdca26"
             ],
             [
              1,
              "#f0f921"
             ]
            ],
            "type": "histogram2d"
           }
          ],
          "histogram2dcontour": [
           {
            "colorbar": {
             "outlinewidth": 0,
             "ticks": ""
            },
            "colorscale": [
             [
              0,
              "#0d0887"
             ],
             [
              0.1111111111111111,
              "#46039f"
             ],
             [
              0.2222222222222222,
              "#7201a8"
             ],
             [
              0.3333333333333333,
              "#9c179e"
             ],
             [
              0.4444444444444444,
              "#bd3786"
             ],
             [
              0.5555555555555556,
              "#d8576b"
             ],
             [
              0.6666666666666666,
              "#ed7953"
             ],
             [
              0.7777777777777778,
              "#fb9f3a"
             ],
             [
              0.8888888888888888,
              "#fdca26"
             ],
             [
              1,
              "#f0f921"
             ]
            ],
            "type": "histogram2dcontour"
           }
          ],
          "mesh3d": [
           {
            "colorbar": {
             "outlinewidth": 0,
             "ticks": ""
            },
            "type": "mesh3d"
           }
          ],
          "parcoords": [
           {
            "line": {
             "colorbar": {
              "outlinewidth": 0,
              "ticks": ""
             }
            },
            "type": "parcoords"
           }
          ],
          "pie": [
           {
            "automargin": true,
            "type": "pie"
           }
          ],
          "scatter": [
           {
            "fillpattern": {
             "fillmode": "overlay",
             "size": 10,
             "solidity": 0.2
            },
            "type": "scatter"
           }
          ],
          "scatter3d": [
           {
            "line": {
             "colorbar": {
              "outlinewidth": 0,
              "ticks": ""
             }
            },
            "marker": {
             "colorbar": {
              "outlinewidth": 0,
              "ticks": ""
             }
            },
            "type": "scatter3d"
           }
          ],
          "scattercarpet": [
           {
            "marker": {
             "colorbar": {
              "outlinewidth": 0,
              "ticks": ""
             }
            },
            "type": "scattercarpet"
           }
          ],
          "scattergeo": [
           {
            "marker": {
             "colorbar": {
              "outlinewidth": 0,
              "ticks": ""
             }
            },
            "type": "scattergeo"
           }
          ],
          "scattergl": [
           {
            "marker": {
             "colorbar": {
              "outlinewidth": 0,
              "ticks": ""
             }
            },
            "type": "scattergl"
           }
          ],
          "scattermapbox": [
           {
            "marker": {
             "colorbar": {
              "outlinewidth": 0,
              "ticks": ""
             }
            },
            "type": "scattermapbox"
           }
          ],
          "scatterpolar": [
           {
            "marker": {
             "colorbar": {
              "outlinewidth": 0,
              "ticks": ""
             }
            },
            "type": "scatterpolar"
           }
          ],
          "scatterpolargl": [
           {
            "marker": {
             "colorbar": {
              "outlinewidth": 0,
              "ticks": ""
             }
            },
            "type": "scatterpolargl"
           }
          ],
          "scatterternary": [
           {
            "marker": {
             "colorbar": {
              "outlinewidth": 0,
              "ticks": ""
             }
            },
            "type": "scatterternary"
           }
          ],
          "surface": [
           {
            "colorbar": {
             "outlinewidth": 0,
             "ticks": ""
            },
            "colorscale": [
             [
              0,
              "#0d0887"
             ],
             [
              0.1111111111111111,
              "#46039f"
             ],
             [
              0.2222222222222222,
              "#7201a8"
             ],
             [
              0.3333333333333333,
              "#9c179e"
             ],
             [
              0.4444444444444444,
              "#bd3786"
             ],
             [
              0.5555555555555556,
              "#d8576b"
             ],
             [
              0.6666666666666666,
              "#ed7953"
             ],
             [
              0.7777777777777778,
              "#fb9f3a"
             ],
             [
              0.8888888888888888,
              "#fdca26"
             ],
             [
              1,
              "#f0f921"
             ]
            ],
            "type": "surface"
           }
          ],
          "table": [
           {
            "cells": {
             "fill": {
              "color": "#EBF0F8"
             },
             "line": {
              "color": "white"
             }
            },
            "header": {
             "fill": {
              "color": "#C8D4E3"
             },
             "line": {
              "color": "white"
             }
            },
            "type": "table"
           }
          ]
         },
         "layout": {
          "annotationdefaults": {
           "arrowcolor": "#2a3f5f",
           "arrowhead": 0,
           "arrowwidth": 1
          },
          "autotypenumbers": "strict",
          "coloraxis": {
           "colorbar": {
            "outlinewidth": 0,
            "ticks": ""
           }
          },
          "colorscale": {
           "diverging": [
            [
             0,
             "#8e0152"
            ],
            [
             0.1,
             "#c51b7d"
            ],
            [
             0.2,
             "#de77ae"
            ],
            [
             0.3,
             "#f1b6da"
            ],
            [
             0.4,
             "#fde0ef"
            ],
            [
             0.5,
             "#f7f7f7"
            ],
            [
             0.6,
             "#e6f5d0"
            ],
            [
             0.7,
             "#b8e186"
            ],
            [
             0.8,
             "#7fbc41"
            ],
            [
             0.9,
             "#4d9221"
            ],
            [
             1,
             "#276419"
            ]
           ],
           "sequential": [
            [
             0,
             "#0d0887"
            ],
            [
             0.1111111111111111,
             "#46039f"
            ],
            [
             0.2222222222222222,
             "#7201a8"
            ],
            [
             0.3333333333333333,
             "#9c179e"
            ],
            [
             0.4444444444444444,
             "#bd3786"
            ],
            [
             0.5555555555555556,
             "#d8576b"
            ],
            [
             0.6666666666666666,
             "#ed7953"
            ],
            [
             0.7777777777777778,
             "#fb9f3a"
            ],
            [
             0.8888888888888888,
             "#fdca26"
            ],
            [
             1,
             "#f0f921"
            ]
           ],
           "sequentialminus": [
            [
             0,
             "#0d0887"
            ],
            [
             0.1111111111111111,
             "#46039f"
            ],
            [
             0.2222222222222222,
             "#7201a8"
            ],
            [
             0.3333333333333333,
             "#9c179e"
            ],
            [
             0.4444444444444444,
             "#bd3786"
            ],
            [
             0.5555555555555556,
             "#d8576b"
            ],
            [
             0.6666666666666666,
             "#ed7953"
            ],
            [
             0.7777777777777778,
             "#fb9f3a"
            ],
            [
             0.8888888888888888,
             "#fdca26"
            ],
            [
             1,
             "#f0f921"
            ]
           ]
          },
          "colorway": [
           "#636efa",
           "#EF553B",
           "#00cc96",
           "#ab63fa",
           "#FFA15A",
           "#19d3f3",
           "#FF6692",
           "#B6E880",
           "#FF97FF",
           "#FECB52"
          ],
          "font": {
           "color": "#2a3f5f"
          },
          "geo": {
           "bgcolor": "white",
           "lakecolor": "white",
           "landcolor": "#E5ECF6",
           "showlakes": true,
           "showland": true,
           "subunitcolor": "white"
          },
          "hoverlabel": {
           "align": "left"
          },
          "hovermode": "closest",
          "mapbox": {
           "style": "light"
          },
          "paper_bgcolor": "white",
          "plot_bgcolor": "#E5ECF6",
          "polar": {
           "angularaxis": {
            "gridcolor": "white",
            "linecolor": "white",
            "ticks": ""
           },
           "bgcolor": "#E5ECF6",
           "radialaxis": {
            "gridcolor": "white",
            "linecolor": "white",
            "ticks": ""
           }
          },
          "scene": {
           "xaxis": {
            "backgroundcolor": "#E5ECF6",
            "gridcolor": "white",
            "gridwidth": 2,
            "linecolor": "white",
            "showbackground": true,
            "ticks": "",
            "zerolinecolor": "white"
           },
           "yaxis": {
            "backgroundcolor": "#E5ECF6",
            "gridcolor": "white",
            "gridwidth": 2,
            "linecolor": "white",
            "showbackground": true,
            "ticks": "",
            "zerolinecolor": "white"
           },
           "zaxis": {
            "backgroundcolor": "#E5ECF6",
            "gridcolor": "white",
            "gridwidth": 2,
            "linecolor": "white",
            "showbackground": true,
            "ticks": "",
            "zerolinecolor": "white"
           }
          },
          "shapedefaults": {
           "line": {
            "color": "#2a3f5f"
           }
          },
          "ternary": {
           "aaxis": {
            "gridcolor": "white",
            "linecolor": "white",
            "ticks": ""
           },
           "baxis": {
            "gridcolor": "white",
            "linecolor": "white",
            "ticks": ""
           },
           "bgcolor": "#E5ECF6",
           "caxis": {
            "gridcolor": "white",
            "linecolor": "white",
            "ticks": ""
           }
          },
          "title": {
           "x": 0.05
          },
          "xaxis": {
           "automargin": true,
           "gridcolor": "white",
           "linecolor": "white",
           "ticks": "",
           "title": {
            "standoff": 15
           },
           "zerolinecolor": "white",
           "zerolinewidth": 2
          },
          "yaxis": {
           "automargin": true,
           "gridcolor": "white",
           "linecolor": "white",
           "ticks": "",
           "title": {
            "standoff": 15
           },
           "zerolinecolor": "white",
           "zerolinewidth": 2
          }
         }
        },
        "title": {
         "text": "Top 10 Zip Codes by Total Revenue"
        }
       }
      }
     },
     "metadata": {},
     "output_type": "display_data"
    }
   ],
   "source": [
    "# Get top 10 zip codes by revenue\n",
    "top_10_revenue = most_revenue_item.sort_values('sale_dollars', ascending=False).head(10)\n",
    "\n",
    "fig = px.pie(\n",
    "    top_10_revenue,\n",
    "    names='zip_code',\n",
    "    values='sale_dollars',\n",
    "    title='Top 10 Zip Codes by Total Revenue',\n",
    "    hover_data=['item_description'],\n",
    "    hole=0  # Set >0 for donut chart\n",
    ")\n",
    "\n",
    "fig.update_traces(textinfo='percent+label')\n",
    "\n",
    "fig.show()"
   ]
  },
  {
   "cell_type": "markdown",
   "id": "ad908984",
   "metadata": {},
   "source": [
    "### 2.2 Sales percentage per store (in dollars)"
   ]
  },
  {
   "cell_type": "markdown",
   "id": "9c2421e5",
   "metadata": {},
   "source": [
    "**Methodology:**\n",
    "\n",
    "1. **Data Aggregation**:\n",
    "   We grouped the data by `store_name` to calculate each store's total sales (`sale_dollars`).\n",
    "\n",
    "2. **Overall Sales Calculation**:\n",
    "   We calculated the total sales across all stores to establish a reference for the percentage contribution of each store.\n",
    "\n",
    "3. **Percentage Calculation**:\n",
    "   The percentage of total sales per store was computed using the formula:\n",
    "\n",
    "   $$\n",
    "   \\text{Sales Percentage} = \\left(\\frac{\\text{Store's Total Sales}}{\\text{Overall Total Sales}}\\right) \\times 100\n",
    "   $$\n",
    "\n",
    "4. **Sorting**:\n",
    "   The results were sorted in descending order of the sales percentage to highlight the highest-contributing stores."
   ]
  },
  {
   "cell_type": "code",
   "execution_count": null,
   "id": "a8d39d5e",
   "metadata": {},
   "outputs": [
    {
     "name": "stdout",
     "output_type": "stream",
     "text": [
      "                              store_name  sale_dollars  sales_percentage\n",
      "49                        Wilkie Liquors      11620.80         20.541781\n",
      "41          Sam's Club 6432 / Sioux City       6641.04         11.739191\n",
      "42            Sam's Club 6514 / Waterloo       5199.36          9.190771\n",
      "14          Hy-Vee #3 / BDI / Des Moines       4124.04          7.289957\n",
      "43                Sam's Club 6568 / Ames       3913.92          6.918533\n",
      "2                  Cedar Ridge Vineyards       3712.50          6.562488\n",
      "32         Hy-Vee Wine and Spirits / WDM       3372.30          5.961126\n",
      "8    Fareway Stores #138 / Pleasant Hill       2295.00          4.056811\n",
      "19       Hy-Vee Food Store #2 / Waterloo       1992.15          3.521471\n",
      "24        Hy-Vee Food Store / Fort Dodge       1563.84          2.764359\n",
      "16                       Hy-Vee / Waukee       1518.72          2.684601\n",
      "7        Fareway Stores #067 / Evansdale       1349.40          2.385299\n",
      "9   Fareway Stores #153  /  W Des Moines       1349.28          2.385087\n",
      "18     Hy-Vee Food Store #1 / Mason City        900.24          1.591330\n",
      "3                         Central City 2        871.20          1.539997\n",
      "20       Hy-Vee Food Store #3 / Waterloo        807.84          1.427997\n",
      "21           Hy-Vee Food Store / Carroll        737.46          1.303589\n",
      "30   Hy-Vee Wine and Spirits / Iowa City        706.32          1.248543\n",
      "44        Sam's Club 8162 / Cedar Rapids        691.20          1.221816\n",
      "22        Hy-Vee Food Store / Coralville        504.00          0.890907\n",
      "15              Hy-Vee #7 / Cedar Rapids        486.00          0.859089\n",
      "37                   Osage Payless Foods        324.00          0.572726\n",
      "27        Hy-Vee Food and Drug / Clinton        282.24          0.498908\n",
      "39                  Quicker Liquor Store        237.24          0.419363\n",
      "33          I-80 Liquor / Council Bluffs        174.24          0.307999\n",
      "4                 Depot Liquor & Grocery        112.47          0.198810\n",
      "11         Fareway Stores #412 / Oelwein        105.04          0.185676\n",
      "40              Quik Stop  /  Burlington         81.60          0.144242\n",
      "26      Hy-Vee Food Store / Marshalltown         75.54          0.133530\n",
      "47       The Ox & Wren Spirits and Gifts         75.12          0.132788\n",
      "12         Fareway Stores #597 / Creston         71.25          0.125947\n",
      "29     Hy-Vee Wine and Spirits / Hubbell         70.56          0.124727\n",
      "46                     Speedy Gas N Shop         68.18          0.120520\n",
      "25          Hy-Vee Food Store / Johnston         64.32          0.113697\n",
      "35               Logan Convenience Store         63.36          0.112000\n",
      "34              Iowa Street Market, Inc.         50.36          0.089020\n",
      "36           Nash Finch / Wholesale Food         45.72          0.080818\n",
      "1      CVS Pharmacy #8526 / Cedar Rapids         42.00          0.074242\n",
      "45                   Sid's Beverage Shop         41.55          0.073447\n",
      "48      Tobacco Hut #14 / Council Bluffs         33.24          0.058757\n",
      "31  Hy-Vee Wine and Spirits / Storm Lake         33.00          0.058333\n",
      "10         Fareway Stores #409 / Carroll         32.52          0.057485\n",
      "28    Hy-Vee Wine and Spirits / Atlantic         23.04          0.040727\n",
      "23         Hy-Vee Food Store / Fairfield         21.78          0.038500\n",
      "38                            Pump N Pak         21.00          0.037121\n",
      "6                         Famous Liquors         17.98          0.031783\n",
      "17     Hy-Vee Drugstore / Council Bluffs         17.82          0.031500\n",
      "13               Food Land Super Markets         13.26          0.023439\n",
      "5                  Double D Liquor Store          9.74          0.017217\n",
      "0              Bootleggin' Barzini's Fin          6.75          0.011932\n"
     ]
    }
   ],
   "source": [
    "# Calculate the total amount of sale_dollars\n",
    "overall_total_sales = data['sale_dollars'].sum()\n",
    "\n",
    "# Group by store_name and calculate the store's total sales\n",
    "grouped_store_sales = data.groupby('store_name')['sale_dollars'].sum().reset_index()\n",
    "\n",
    "# Calculate percentage\n",
    "grouped_store_sales['sales_percentage'] = (grouped_store_sales['sale_dollars'] / overall_total_sales) * 100\n",
    "\n",
    "# Sorted results\n",
    "grouped_store_sales = grouped_store_sales.sort_values('sales_percentage', ascending=False)\n",
    "print(grouped_store_sales)"
   ]
  },
  {
   "cell_type": "markdown",
   "id": "61920d5e",
   "metadata": {},
   "source": [
    "##### Visualize top 5 Using Plotly"
   ]
  },
  {
   "cell_type": "code",
   "execution_count": null,
   "id": "9478ad84",
   "metadata": {},
   "outputs": [
    {
     "data": {
      "application/vnd.plotly.v1+json": {
       "config": {
        "plotlyServerURL": "https://plot.ly"
       },
       "data": [
        {
         "domain": {
          "x": [
           0,
           1
          ],
          "y": [
           0,
           1
          ]
         },
         "hovertemplate": "store_name=%{label}<br>sales_percentage=%{value}<extra></extra>",
         "labels": [
          "Wilkie Liquors",
          "Sam's Club 6432 / Sioux City",
          "Sam's Club 6514 / Waterloo",
          "Hy-Vee #3 / BDI / Des Moines",
          "Sam's Club 6568 / Ames"
         ],
         "legendgroup": "",
         "name": "",
         "showlegend": true,
         "type": "pie",
         "values": [
          20.541781351856667,
          11.73919107367257,
          9.19077140038461,
          7.289956626592916,
          6.918533050104886
         ]
        }
       ],
       "layout": {
        "legend": {
         "tracegroupgap": 0
        },
        "template": {
         "data": {
          "bar": [
           {
            "error_x": {
             "color": "#2a3f5f"
            },
            "error_y": {
             "color": "#2a3f5f"
            },
            "marker": {
             "line": {
              "color": "#E5ECF6",
              "width": 0.5
             },
             "pattern": {
              "fillmode": "overlay",
              "size": 10,
              "solidity": 0.2
             }
            },
            "type": "bar"
           }
          ],
          "barpolar": [
           {
            "marker": {
             "line": {
              "color": "#E5ECF6",
              "width": 0.5
             },
             "pattern": {
              "fillmode": "overlay",
              "size": 10,
              "solidity": 0.2
             }
            },
            "type": "barpolar"
           }
          ],
          "carpet": [
           {
            "aaxis": {
             "endlinecolor": "#2a3f5f",
             "gridcolor": "white",
             "linecolor": "white",
             "minorgridcolor": "white",
             "startlinecolor": "#2a3f5f"
            },
            "baxis": {
             "endlinecolor": "#2a3f5f",
             "gridcolor": "white",
             "linecolor": "white",
             "minorgridcolor": "white",
             "startlinecolor": "#2a3f5f"
            },
            "type": "carpet"
           }
          ],
          "choropleth": [
           {
            "colorbar": {
             "outlinewidth": 0,
             "ticks": ""
            },
            "type": "choropleth"
           }
          ],
          "contour": [
           {
            "colorbar": {
             "outlinewidth": 0,
             "ticks": ""
            },
            "colorscale": [
             [
              0,
              "#0d0887"
             ],
             [
              0.1111111111111111,
              "#46039f"
             ],
             [
              0.2222222222222222,
              "#7201a8"
             ],
             [
              0.3333333333333333,
              "#9c179e"
             ],
             [
              0.4444444444444444,
              "#bd3786"
             ],
             [
              0.5555555555555556,
              "#d8576b"
             ],
             [
              0.6666666666666666,
              "#ed7953"
             ],
             [
              0.7777777777777778,
              "#fb9f3a"
             ],
             [
              0.8888888888888888,
              "#fdca26"
             ],
             [
              1,
              "#f0f921"
             ]
            ],
            "type": "contour"
           }
          ],
          "contourcarpet": [
           {
            "colorbar": {
             "outlinewidth": 0,
             "ticks": ""
            },
            "type": "contourcarpet"
           }
          ],
          "heatmap": [
           {
            "colorbar": {
             "outlinewidth": 0,
             "ticks": ""
            },
            "colorscale": [
             [
              0,
              "#0d0887"
             ],
             [
              0.1111111111111111,
              "#46039f"
             ],
             [
              0.2222222222222222,
              "#7201a8"
             ],
             [
              0.3333333333333333,
              "#9c179e"
             ],
             [
              0.4444444444444444,
              "#bd3786"
             ],
             [
              0.5555555555555556,
              "#d8576b"
             ],
             [
              0.6666666666666666,
              "#ed7953"
             ],
             [
              0.7777777777777778,
              "#fb9f3a"
             ],
             [
              0.8888888888888888,
              "#fdca26"
             ],
             [
              1,
              "#f0f921"
             ]
            ],
            "type": "heatmap"
           }
          ],
          "heatmapgl": [
           {
            "colorbar": {
             "outlinewidth": 0,
             "ticks": ""
            },
            "colorscale": [
             [
              0,
              "#0d0887"
             ],
             [
              0.1111111111111111,
              "#46039f"
             ],
             [
              0.2222222222222222,
              "#7201a8"
             ],
             [
              0.3333333333333333,
              "#9c179e"
             ],
             [
              0.4444444444444444,
              "#bd3786"
             ],
             [
              0.5555555555555556,
              "#d8576b"
             ],
             [
              0.6666666666666666,
              "#ed7953"
             ],
             [
              0.7777777777777778,
              "#fb9f3a"
             ],
             [
              0.8888888888888888,
              "#fdca26"
             ],
             [
              1,
              "#f0f921"
             ]
            ],
            "type": "heatmapgl"
           }
          ],
          "histogram": [
           {
            "marker": {
             "pattern": {
              "fillmode": "overlay",
              "size": 10,
              "solidity": 0.2
             }
            },
            "type": "histogram"
           }
          ],
          "histogram2d": [
           {
            "colorbar": {
             "outlinewidth": 0,
             "ticks": ""
            },
            "colorscale": [
             [
              0,
              "#0d0887"
             ],
             [
              0.1111111111111111,
              "#46039f"
             ],
             [
              0.2222222222222222,
              "#7201a8"
             ],
             [
              0.3333333333333333,
              "#9c179e"
             ],
             [
              0.4444444444444444,
              "#bd3786"
             ],
             [
              0.5555555555555556,
              "#d8576b"
             ],
             [
              0.6666666666666666,
              "#ed7953"
             ],
             [
              0.7777777777777778,
              "#fb9f3a"
             ],
             [
              0.8888888888888888,
              "#fdca26"
             ],
             [
              1,
              "#f0f921"
             ]
            ],
            "type": "histogram2d"
           }
          ],
          "histogram2dcontour": [
           {
            "colorbar": {
             "outlinewidth": 0,
             "ticks": ""
            },
            "colorscale": [
             [
              0,
              "#0d0887"
             ],
             [
              0.1111111111111111,
              "#46039f"
             ],
             [
              0.2222222222222222,
              "#7201a8"
             ],
             [
              0.3333333333333333,
              "#9c179e"
             ],
             [
              0.4444444444444444,
              "#bd3786"
             ],
             [
              0.5555555555555556,
              "#d8576b"
             ],
             [
              0.6666666666666666,
              "#ed7953"
             ],
             [
              0.7777777777777778,
              "#fb9f3a"
             ],
             [
              0.8888888888888888,
              "#fdca26"
             ],
             [
              1,
              "#f0f921"
             ]
            ],
            "type": "histogram2dcontour"
           }
          ],
          "mesh3d": [
           {
            "colorbar": {
             "outlinewidth": 0,
             "ticks": ""
            },
            "type": "mesh3d"
           }
          ],
          "parcoords": [
           {
            "line": {
             "colorbar": {
              "outlinewidth": 0,
              "ticks": ""
             }
            },
            "type": "parcoords"
           }
          ],
          "pie": [
           {
            "automargin": true,
            "type": "pie"
           }
          ],
          "scatter": [
           {
            "fillpattern": {
             "fillmode": "overlay",
             "size": 10,
             "solidity": 0.2
            },
            "type": "scatter"
           }
          ],
          "scatter3d": [
           {
            "line": {
             "colorbar": {
              "outlinewidth": 0,
              "ticks": ""
             }
            },
            "marker": {
             "colorbar": {
              "outlinewidth": 0,
              "ticks": ""
             }
            },
            "type": "scatter3d"
           }
          ],
          "scattercarpet": [
           {
            "marker": {
             "colorbar": {
              "outlinewidth": 0,
              "ticks": ""
             }
            },
            "type": "scattercarpet"
           }
          ],
          "scattergeo": [
           {
            "marker": {
             "colorbar": {
              "outlinewidth": 0,
              "ticks": ""
             }
            },
            "type": "scattergeo"
           }
          ],
          "scattergl": [
           {
            "marker": {
             "colorbar": {
              "outlinewidth": 0,
              "ticks": ""
             }
            },
            "type": "scattergl"
           }
          ],
          "scattermapbox": [
           {
            "marker": {
             "colorbar": {
              "outlinewidth": 0,
              "ticks": ""
             }
            },
            "type": "scattermapbox"
           }
          ],
          "scatterpolar": [
           {
            "marker": {
             "colorbar": {
              "outlinewidth": 0,
              "ticks": ""
             }
            },
            "type": "scatterpolar"
           }
          ],
          "scatterpolargl": [
           {
            "marker": {
             "colorbar": {
              "outlinewidth": 0,
              "ticks": ""
             }
            },
            "type": "scatterpolargl"
           }
          ],
          "scatterternary": [
           {
            "marker": {
             "colorbar": {
              "outlinewidth": 0,
              "ticks": ""
             }
            },
            "type": "scatterternary"
           }
          ],
          "surface": [
           {
            "colorbar": {
             "outlinewidth": 0,
             "ticks": ""
            },
            "colorscale": [
             [
              0,
              "#0d0887"
             ],
             [
              0.1111111111111111,
              "#46039f"
             ],
             [
              0.2222222222222222,
              "#7201a8"
             ],
             [
              0.3333333333333333,
              "#9c179e"
             ],
             [
              0.4444444444444444,
              "#bd3786"
             ],
             [
              0.5555555555555556,
              "#d8576b"
             ],
             [
              0.6666666666666666,
              "#ed7953"
             ],
             [
              0.7777777777777778,
              "#fb9f3a"
             ],
             [
              0.8888888888888888,
              "#fdca26"
             ],
             [
              1,
              "#f0f921"
             ]
            ],
            "type": "surface"
           }
          ],
          "table": [
           {
            "cells": {
             "fill": {
              "color": "#EBF0F8"
             },
             "line": {
              "color": "white"
             }
            },
            "header": {
             "fill": {
              "color": "#C8D4E3"
             },
             "line": {
              "color": "white"
             }
            },
            "type": "table"
           }
          ]
         },
         "layout": {
          "annotationdefaults": {
           "arrowcolor": "#2a3f5f",
           "arrowhead": 0,
           "arrowwidth": 1
          },
          "autotypenumbers": "strict",
          "coloraxis": {
           "colorbar": {
            "outlinewidth": 0,
            "ticks": ""
           }
          },
          "colorscale": {
           "diverging": [
            [
             0,
             "#8e0152"
            ],
            [
             0.1,
             "#c51b7d"
            ],
            [
             0.2,
             "#de77ae"
            ],
            [
             0.3,
             "#f1b6da"
            ],
            [
             0.4,
             "#fde0ef"
            ],
            [
             0.5,
             "#f7f7f7"
            ],
            [
             0.6,
             "#e6f5d0"
            ],
            [
             0.7,
             "#b8e186"
            ],
            [
             0.8,
             "#7fbc41"
            ],
            [
             0.9,
             "#4d9221"
            ],
            [
             1,
             "#276419"
            ]
           ],
           "sequential": [
            [
             0,
             "#0d0887"
            ],
            [
             0.1111111111111111,
             "#46039f"
            ],
            [
             0.2222222222222222,
             "#7201a8"
            ],
            [
             0.3333333333333333,
             "#9c179e"
            ],
            [
             0.4444444444444444,
             "#bd3786"
            ],
            [
             0.5555555555555556,
             "#d8576b"
            ],
            [
             0.6666666666666666,
             "#ed7953"
            ],
            [
             0.7777777777777778,
             "#fb9f3a"
            ],
            [
             0.8888888888888888,
             "#fdca26"
            ],
            [
             1,
             "#f0f921"
            ]
           ],
           "sequentialminus": [
            [
             0,
             "#0d0887"
            ],
            [
             0.1111111111111111,
             "#46039f"
            ],
            [
             0.2222222222222222,
             "#7201a8"
            ],
            [
             0.3333333333333333,
             "#9c179e"
            ],
            [
             0.4444444444444444,
             "#bd3786"
            ],
            [
             0.5555555555555556,
             "#d8576b"
            ],
            [
             0.6666666666666666,
             "#ed7953"
            ],
            [
             0.7777777777777778,
             "#fb9f3a"
            ],
            [
             0.8888888888888888,
             "#fdca26"
            ],
            [
             1,
             "#f0f921"
            ]
           ]
          },
          "colorway": [
           "#636efa",
           "#EF553B",
           "#00cc96",
           "#ab63fa",
           "#FFA15A",
           "#19d3f3",
           "#FF6692",
           "#B6E880",
           "#FF97FF",
           "#FECB52"
          ],
          "font": {
           "color": "#2a3f5f"
          },
          "geo": {
           "bgcolor": "white",
           "lakecolor": "white",
           "landcolor": "#E5ECF6",
           "showlakes": true,
           "showland": true,
           "subunitcolor": "white"
          },
          "hoverlabel": {
           "align": "left"
          },
          "hovermode": "closest",
          "mapbox": {
           "style": "light"
          },
          "paper_bgcolor": "white",
          "plot_bgcolor": "#E5ECF6",
          "polar": {
           "angularaxis": {
            "gridcolor": "white",
            "linecolor": "white",
            "ticks": ""
           },
           "bgcolor": "#E5ECF6",
           "radialaxis": {
            "gridcolor": "white",
            "linecolor": "white",
            "ticks": ""
           }
          },
          "scene": {
           "xaxis": {
            "backgroundcolor": "#E5ECF6",
            "gridcolor": "white",
            "gridwidth": 2,
            "linecolor": "white",
            "showbackground": true,
            "ticks": "",
            "zerolinecolor": "white"
           },
           "yaxis": {
            "backgroundcolor": "#E5ECF6",
            "gridcolor": "white",
            "gridwidth": 2,
            "linecolor": "white",
            "showbackground": true,
            "ticks": "",
            "zerolinecolor": "white"
           },
           "zaxis": {
            "backgroundcolor": "#E5ECF6",
            "gridcolor": "white",
            "gridwidth": 2,
            "linecolor": "white",
            "showbackground": true,
            "ticks": "",
            "zerolinecolor": "white"
           }
          },
          "shapedefaults": {
           "line": {
            "color": "#2a3f5f"
           }
          },
          "ternary": {
           "aaxis": {
            "gridcolor": "white",
            "linecolor": "white",
            "ticks": ""
           },
           "baxis": {
            "gridcolor": "white",
            "linecolor": "white",
            "ticks": ""
           },
           "bgcolor": "#E5ECF6",
           "caxis": {
            "gridcolor": "white",
            "linecolor": "white",
            "ticks": ""
           }
          },
          "title": {
           "x": 0.05
          },
          "xaxis": {
           "automargin": true,
           "gridcolor": "white",
           "linecolor": "white",
           "ticks": "",
           "title": {
            "standoff": 15
           },
           "zerolinecolor": "white",
           "zerolinewidth": 2
          },
          "yaxis": {
           "automargin": true,
           "gridcolor": "white",
           "linecolor": "white",
           "ticks": "",
           "title": {
            "standoff": 15
           },
           "zerolinecolor": "white",
           "zerolinewidth": 2
          }
         }
        },
        "title": {
         "text": "Top 5 Stores by Sales Percentage"
        }
       }
      }
     },
     "metadata": {},
     "output_type": "display_data"
    }
   ],
   "source": [
    "# Sort and select top 5\n",
    "top_5_stores = grouped_store_sales.sort_values('sales_percentage', ascending=False).head(5)\n",
    "\n",
    "# Create pie chart\n",
    "fig = px.pie(\n",
    "    top_5_stores,\n",
    "    names='store_name',\n",
    "    values='sales_percentage',\n",
    "    title='Top 5 Stores by Sales Percentage'\n",
    ")\n",
    "\n",
    "fig.show()"
   ]
  },
  {
   "cell_type": "markdown",
   "id": "ac3e8bdf",
   "metadata": {},
   "source": [
    "## 3. Insights"
   ]
  },
  {
   "cell_type": "markdown",
   "id": "f822ffeb",
   "metadata": {},
   "source": [
    "### 3.1 Most Popular Item by Bottles Sold per Zip Code (Volume-Driven Analysis)"
   ]
  },
  {
   "cell_type": "markdown",
   "id": "4d926b71",
   "metadata": {},
   "source": [
    "**Key Findings:**\n",
    "\n",
    "1. **Diverse Preferences by Zip Code**: The analysis reveals significant variation in item popularity at the zip code level, underscoring the diversity of consumer preferences across different regions.\n",
    "\n",
    "2. **Concentration of Sales Volume**:\n",
    "   - The pie chart shows that **zip code 52314** leads substantially, accounting for over **40% of total bottles sold** among the top 10 zip codes, with \"Juarez Gold Dss\" as the predominant item. This indicates a strong concentration of demand in this area, likely driven by either local consumer preference or effective promotional activity for this product.\n",
    "   - Zip code **50702** follows, contributing just over **20%** of total volume, with \"Tortilla Gold Dss\" being the most popular item. Other zip codes represent much smaller shares, each below 8%.\n",
    "\n",
    "3. **Notable Products by Volume**:\n",
    "   - \"Juarez Gold Dss\" and \"Tortilla Gold Dss\" are the most frequently purchased items by volume in their respective zip codes, with far higher sales than leading items in other areas.\n",
    "   - Beyond the leading zip codes, there is much lower per-item volume across the remaining segments, suggesting more fragmented or localized demand for popular products.\n",
    "\n",
    "4. **Regional Leaders and Inventory Implications**:\n",
    "   - The top three zip codes (52314, 50702, and 50010) dominate the total volume, representing nearly 70% of all bottles sold among the observed top 10. This concentration highlights important regional leaders where inventory planning, supply chain focus, and marketing efforts can achieve maximum impact.\n",
    "   - Zip codes such as 51106, 50314, and 52402, while not leading, still represent meaningful secondary markets and should be considered in product distribution and promotional strategies.\n",
    "\n",
    "**Business Implications:**\n",
    "- The clear regional dominance of particular items suggests **opportunities for targeted stocking, pricing, and promotional campaigns** in high-volume zip codes, especially where a single item constitutes a significant share of total sales.\n",
    "- In areas with lower, more fragmented volume, a more **diversified inventory approach** may be necessary to cater to broader, niche preferences.\n",
    "\n",
    "**Summary Table (Excerpt):**\n",
    "\n",
    "| Zip Code | Most Popular Item                   | Total Bottles Sold |\n",
    "|----------|-------------------------------------|-------------------|\n",
    "| 52314    | Juarez Gold Dss                     | 1560              |\n",
    "| 50702    | Tortilla Gold Dss                   | 768               |\n",
    "| 50010    | Member's Mark Spiced Rum            | 288               |\n",
    "\n",
    "---\n",
    "\n",
    "**Overall Insight:**  \n",
    "Volume-driven item analysis uncovers *clear hotspots of high demand* and offers a foundation for **regionally adaptive business strategies** in stocking, distribution, and marketing, particularly for top-performing products in leading zip codes."
   ]
  },
  {
   "cell_type": "markdown",
   "id": "d933c5a3",
   "metadata": {},
   "source": [
    "### 3.2 Most Popular Item by Revenue per Zip Code (Revenue-Driven Analysis)"
   ]
  },
  {
   "cell_type": "markdown",
   "id": "d96db728",
   "metadata": {},
   "source": [
    "**Key Findings:**\n",
    "\n",
    "1. **Distinct Revenue Leaders by Zip Code**  \n",
    "   The revenue-driven analysis highlights significant differences in the most profitable items by zip code, with certain products commanding a notably higher share of total sales revenue in specific regions. This provides critical visibility into high-value items and premium purchasing behavior.\n",
    "\n",
    "2. **High Revenue Concentration**  \n",
    "   - **Zip code 52314** is the clear revenue leader, contributing approximately **28.4%** of total revenue among the top 10 zip codes (as illustrated in the pie chart). Its predominant product, \"Juarez Gold Dss,\" alone generated over **$11,600**, making it both a high-volume and high-value leader.\n",
    "   - **Zip codes 51106** and **50702** follow, with **13.2%** and **12.7%** of total revenue, respectively, each with distinct premium items at the top.\n",
    "   - The distribution of revenue is less concentrated than pure volume sales: the leading zip code represents a smaller percentage of the total top-10 revenue than in the bottles-sold analysis, suggesting that revenue is more evenly spread among high-performing areas.\n",
    "\n",
    "3. **High-Value Product Types**  \n",
    "   - While some regions have overlap between the highest-volume and highest-revenue items, other zip codes show differences, indicating that certain premium products may not have the highest sales counts but significantly contribute to revenue due to higher price points.\n",
    "   - For example, in zip code **51106**, \"Kahlua Coffee Liqueur\" is the lead revenue generator, pointing to strong demand for higher-priced or specialty liqueur categories.\n",
    "\n",
    "4. **Wider Distribution of \"Top Performer\" Zip Codes**  \n",
    "   - The revenue-based pie chart confirms that more zip codes contribute meaningfully to total revenue, with the top 10 together capturing a broad segment of the market. This may warrant broader distribution or sales efforts across additional locations, rather than focusing solely on the highest-volume regions.\n",
    "\n",
    "**Business Implications:**\n",
    "- **Revenue-focused resource allocation**: The clear identification of zip codes and items that drive the largest revenue opportunities enables a more **targeted approach to inventory investment, premium promotions, and profit maximization**.\n",
    "- **Premiumization opportunities**: In regions where the leading item is more expensive (but not necessarily the top by volume), there exists an opportunity to further develop premium product lines or upsell strategies.\n",
    "- **Balanced sales strategy**: Given the less concentrated revenue spread, businesses may benefit from **diversifying sales and marketing efforts across more regions** to maximize high-value product performance.\n",
    "\n",
    "**Summary Table (Excerpt):**\n",
    "\n",
    "| Zip Code | Most Popular Item                   | Total Revenue ($) |\n",
    "|----------|-------------------------------------|-------------------|\n",
    "| 52314    | Juarez Gold Dss                     |   $11,620.80      |\n",
    "| 51106    | Kahlua Coffee Liqueur               |    $5,397.60      |\n",
    "| 50702    | Tortilla Gold Dss                   |    $5,199.36      |\n",
    "\n",
    "\n",
    "---\n",
    "\n",
    "**Overall Insight:**  \n",
    "Revenue-based item analysis *broadens the lens* on regional product performance, highlighting **where premium and high-margin items are most impactful**. This perspective supports **profit-driven, regionally adaptive merchandising and pricing strategies**, empowering businesses to capture value beyond just sheer sales volume."
   ]
  },
  {
   "cell_type": "markdown",
   "id": "707f88a4",
   "metadata": {},
   "source": [
    "### 3.3 Store-Level Sales Distribution Analysis"
   ]
  },
  {
   "cell_type": "markdown",
   "id": "33e27917",
   "metadata": {},
   "source": [
    "**Key Findings:**\n",
    "\n",
    "1. **Sales Dominance Among Top Stores**  \n",
    "   The analysis reveals a high concentration of sales among a small group of stores. **Wilkie Liquors** is the clear leader, accounting for approximately **20.5%** of overall sales—more than any other individual store. Combined, the top five stores contribute over **60%** of total sales (as visualized in the pie chart), underscoring a significant skew towards a select few high-performing outlets.\n",
    "\n",
    "2. **Top Performing Stores**  \n",
    "   - **Wilkie Liquors** alone generated $11,620.80 in sales, giving it a dominant position in the market.\n",
    "   - The next highest contributors are **Sam’s Club 6432 / Sioux City** (11.7%), **Sam's Club 6514 / Waterloo** (9.2%), **Hy-Vee #3 / BDI / Des Moines** (7.3%), and **Sam's Club 6568 / Ames** (6.9%).\n",
    "   - Each of these stores independently contributes a higher percentage of sales than most remaining stores combined.\n",
    "\n",
    "3. **Long Tail of Smaller Outlets**  \n",
    "   While a limited number of stores drive the majority of revenue, the remainder of outlets collectively represent a small fraction of total sales, often below 3% per store. Many stores contribute less than 1% each, indicating a **highly concentrated sales landscape with a long tail of low-volume sellers**.\n",
    "\n",
    "4. **Business Implications**  \n",
    "   - **Focused Investment and Relationship Management**: The dominant sales position of Wilkie Liquors and leading Sam’s Club and Hy-Vee locations suggests clear opportunities for prioritized inventory management, marketing investment, and partnership development.\n",
    "   - **Strategic Differentiation for Lower-Performing Stores**: The long tail of smaller outlets may require a differentiated strategy, focusing on niche market tactics, localized promotions, or operational efficiencies rather than broad inventory expansion.\n",
    "\n",
    "**Summary Table (Top 5 Excerpt):**\n",
    "\n",
    "| Store Name                           | Total Sales ($) | Sales %   |\n",
    "|--------------------------------------|-----------------|-----------|\n",
    "| Wilkie Liquors                       | $11,620.80      | 20.5%     |\n",
    "| Sam’s Club 6432 / Sioux City         | $6,641.04       | 11.7%     |\n",
    "| Sam’s Club 6514 / Waterloo           | $5,199.36       | 9.2%      |\n",
    "| Hy-Vee #3 / BDI / Des Moines         | $4,124.04       | 7.3%      |\n",
    "| Sam’s Club 6568 / Ames               | $3,913.92       | 6.9%      |\n",
    "\n",
    "---\n",
    "\n",
    "**Overall Insight:**  \n",
    "Store-level sales are **heavily concentrated within a small number of key outlets**, presenting clear opportunities for targeted sales and marketing efforts at these top performers. For the broader base of stores, a more tailored approach is warranted, potentially leveraging local insights or operational optimization to drive incremental growth. This concentration should inform **resource allocation, promotional partnerships, and overall market strategy** moving forward."
   ]
  }
 ],
 "metadata": {
  "kernelspec": {
   "display_name": "Python 3",
   "language": "python",
   "name": "python3"
  },
  "language_info": {
   "codemirror_mode": {
    "name": "ipython",
    "version": 3
   },
   "file_extension": ".py",
   "mimetype": "text/x-python",
   "name": "python",
   "nbconvert_exporter": "python",
   "pygments_lexer": "ipython3",
   "version": "3.11.0"
  }
 },
 "nbformat": 4,
 "nbformat_minor": 5
}
